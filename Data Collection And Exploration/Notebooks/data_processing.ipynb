{
  "nbformat": 4,
  "nbformat_minor": 0,
  "metadata": {
    "colab": {
      "provenance": []
    },
    "kernelspec": {
      "name": "python3",
      "display_name": "Python 3"
    },
    "language_info": {
      "name": "python"
    }
  },
  "cells": [
    {
      "cell_type": "markdown",
      "source": [
        "# Satellite Imagery Land Classification - Milestone 1\n"
      ],
      "metadata": {
        "id": "B9ibDlJ3KJ7n"
      }
    },
    {
      "cell_type": "markdown",
      "source": [
        "## Data Collection, Exploration, and Preprocessing"
      ],
      "metadata": {
        "id": "JYVX1rBBKK05"
      }
    },
    {
      "cell_type": "markdown",
      "source": [
        "**Objectives:**\n",
        "- Collect and preprocess satellite imagery data for land classification tasks\n",
        "- Perform exploratory data analysis on multispectral satellite images  \n",
        "- Apply feature engineering including vegetation indices (NDVI)\n",
        "\n",
        "**Dataset:** EuroSAT Multispectral Dataset\n",
        "**Source:** Zenodo (https://zenodo.org/records/7711810)"
      ],
      "metadata": {
        "id": "APu51XJlKUN7"
      }
    },
    {
      "cell_type": "markdown",
      "source": [
        "---"
      ],
      "metadata": {
        "id": "50--hkjzKdgT"
      }
    },
    {
      "cell_type": "markdown",
      "source": [
        "### INSTALL DEPENDENCIES AND MOUNT DRIVE"
      ],
      "metadata": {
        "id": "DlIntLP-KaaG"
      }
    },
    {
      "cell_type": "code",
      "execution_count": 1,
      "metadata": {
        "colab": {
          "base_uri": "https://localhost:8080/"
        },
        "id": "ub7D2kjAKI5o",
        "outputId": "dcef2702-8877-4f9e-f2c1-cdb7769f95af"
      },
      "outputs": [
        {
          "output_type": "stream",
          "name": "stdout",
          "text": [
            "Collecting rasterio\n",
            "  Downloading rasterio-1.4.3-cp311-cp311-manylinux_2_17_x86_64.manylinux2014_x86_64.whl.metadata (9.1 kB)\n",
            "Requirement already satisfied: albumentations in /usr/local/lib/python3.11/dist-packages (2.0.6)\n",
            "Collecting affine (from rasterio)\n",
            "  Downloading affine-2.4.0-py3-none-any.whl.metadata (4.0 kB)\n",
            "Requirement already satisfied: attrs in /usr/local/lib/python3.11/dist-packages (from rasterio) (25.3.0)\n",
            "Requirement already satisfied: certifi in /usr/local/lib/python3.11/dist-packages (from rasterio) (2025.4.26)\n",
            "Requirement already satisfied: click>=4.0 in /usr/local/lib/python3.11/dist-packages (from rasterio) (8.2.0)\n",
            "Collecting cligj>=0.5 (from rasterio)\n",
            "  Downloading cligj-0.7.2-py3-none-any.whl.metadata (5.0 kB)\n",
            "Requirement already satisfied: numpy>=1.24 in /usr/local/lib/python3.11/dist-packages (from rasterio) (2.0.2)\n",
            "Collecting click-plugins (from rasterio)\n",
            "  Downloading click_plugins-1.1.1-py2.py3-none-any.whl.metadata (6.4 kB)\n",
            "Requirement already satisfied: pyparsing in /usr/local/lib/python3.11/dist-packages (from rasterio) (3.2.3)\n",
            "Requirement already satisfied: scipy>=1.10.0 in /usr/local/lib/python3.11/dist-packages (from albumentations) (1.15.3)\n",
            "Requirement already satisfied: PyYAML in /usr/local/lib/python3.11/dist-packages (from albumentations) (6.0.2)\n",
            "Requirement already satisfied: pydantic>=2.9.2 in /usr/local/lib/python3.11/dist-packages (from albumentations) (2.11.4)\n",
            "Requirement already satisfied: albucore==0.0.24 in /usr/local/lib/python3.11/dist-packages (from albumentations) (0.0.24)\n",
            "Requirement already satisfied: opencv-python-headless>=4.9.0.80 in /usr/local/lib/python3.11/dist-packages (from albumentations) (4.11.0.86)\n",
            "Requirement already satisfied: stringzilla>=3.10.4 in /usr/local/lib/python3.11/dist-packages (from albucore==0.0.24->albumentations) (3.12.5)\n",
            "Requirement already satisfied: simsimd>=5.9.2 in /usr/local/lib/python3.11/dist-packages (from albucore==0.0.24->albumentations) (6.2.1)\n",
            "Requirement already satisfied: annotated-types>=0.6.0 in /usr/local/lib/python3.11/dist-packages (from pydantic>=2.9.2->albumentations) (0.7.0)\n",
            "Requirement already satisfied: pydantic-core==2.33.2 in /usr/local/lib/python3.11/dist-packages (from pydantic>=2.9.2->albumentations) (2.33.2)\n",
            "Requirement already satisfied: typing-extensions>=4.12.2 in /usr/local/lib/python3.11/dist-packages (from pydantic>=2.9.2->albumentations) (4.13.2)\n",
            "Requirement already satisfied: typing-inspection>=0.4.0 in /usr/local/lib/python3.11/dist-packages (from pydantic>=2.9.2->albumentations) (0.4.0)\n",
            "Downloading rasterio-1.4.3-cp311-cp311-manylinux_2_17_x86_64.manylinux2014_x86_64.whl (22.2 MB)\n",
            "\u001b[2K   \u001b[90m━━━━━━━━━━━━━━━━━━━━━━━━━━━━━━━━━━━━━━━━\u001b[0m \u001b[32m22.2/22.2 MB\u001b[0m \u001b[31m26.5 MB/s\u001b[0m eta \u001b[36m0:00:00\u001b[0m\n",
            "\u001b[?25hDownloading cligj-0.7.2-py3-none-any.whl (7.1 kB)\n",
            "Downloading affine-2.4.0-py3-none-any.whl (15 kB)\n",
            "Downloading click_plugins-1.1.1-py2.py3-none-any.whl (7.5 kB)\n",
            "Installing collected packages: cligj, click-plugins, affine, rasterio\n",
            "Successfully installed affine-2.4.0 click-plugins-1.1.1 cligj-0.7.2 rasterio-1.4.3\n",
            "Mounted at /content/drive\n",
            "✅ Dependencies installed and Google Drive mounted!\n"
          ]
        }
      ],
      "source": [
        "# Install required packages\n",
        "!pip install rasterio albumentations\n",
        "\n",
        "# Mount Google Drive\n",
        "from google.colab import drive\n",
        "drive.mount('/content/drive')\n",
        "\n",
        "print(\"✅ Dependencies installed and Google Drive mounted!\")"
      ]
    },
    {
      "cell_type": "markdown",
      "source": [
        "### IMPORT LIBRARIES"
      ],
      "metadata": {
        "id": "wYSRHU0qKmii"
      }
    },
    {
      "cell_type": "code",
      "source": [
        "# Standard library imports\n",
        "import os\n",
        "import zipfile\n",
        "import pickle"
      ],
      "metadata": {
        "id": "mJnlUp-7Kq7Y"
      },
      "execution_count": 2,
      "outputs": []
    },
    {
      "cell_type": "code",
      "source": [
        "# Data handling and numerical computing\n",
        "import numpy as np\n",
        "import pandas as pd"
      ],
      "metadata": {
        "id": "jkbfZan-Kkbh"
      },
      "execution_count": 3,
      "outputs": []
    },
    {
      "cell_type": "code",
      "source": [
        "# Image processing and computer vision\n",
        "import cv2\n",
        "import rasterio\n",
        "import albumentations as A"
      ],
      "metadata": {
        "colab": {
          "base_uri": "https://localhost:8080/"
        },
        "id": "eLg6ExnaKhsc",
        "outputId": "5ff7da8d-a195-4f84-a940-2af1fc226202"
      },
      "execution_count": 4,
      "outputs": [
        {
          "output_type": "stream",
          "name": "stderr",
          "text": [
            "/usr/local/lib/python3.11/dist-packages/albumentations/__init__.py:28: UserWarning: A new version of Albumentations is available: '2.0.7' (you have '2.0.6'). Upgrade using: pip install -U albumentations. To disable automatic update checks, set the environment variable NO_ALBUMENTATIONS_UPDATE to 1.\n",
            "  check_for_updates()\n"
          ]
        }
      ]
    },
    {
      "cell_type": "code",
      "source": [
        "# Data visualization\n",
        "import matplotlib.pyplot as plt\n",
        "import seaborn as sns"
      ],
      "metadata": {
        "id": "s3VgbLcTKxiC"
      },
      "execution_count": 5,
      "outputs": []
    },
    {
      "cell_type": "code",
      "source": [
        "# Machine learning and data analysis\n",
        "from sklearn.preprocessing import LabelEncoder\n",
        "from sklearn.model_selection import train_test_split\n",
        "from sklearn.decomposition import PCA\n",
        "from sklearn.manifold import TSNE"
      ],
      "metadata": {
        "id": "26ooU2VAKzRs"
      },
      "execution_count": 6,
      "outputs": []
    },
    {
      "cell_type": "code",
      "source": [
        "# Web requests\n",
        "import requests"
      ],
      "metadata": {
        "id": "wbh2Q0QfK07X"
      },
      "execution_count": 8,
      "outputs": []
    },
    {
      "cell_type": "code",
      "source": [
        "print(\"✅ All libraries imported successfully!\")"
      ],
      "metadata": {
        "colab": {
          "base_uri": "https://localhost:8080/"
        },
        "id": "VYZ--T6mK1s7",
        "outputId": "bad8de14-faaf-4765-ceec-8faa9490cfd9"
      },
      "execution_count": 9,
      "outputs": [
        {
          "output_type": "stream",
          "name": "stdout",
          "text": [
            "✅ All libraries imported successfully!\n"
          ]
        }
      ]
    },
    {
      "cell_type": "markdown",
      "source": [
        "### CONFIGURATION AND CONSTANTS"
      ],
      "metadata": {
        "id": "Ron-6s0gK5RW"
      }
    },
    {
      "cell_type": "code",
      "source": [
        "# Image processing parameters\n",
        "IMAGE_SIZE = (64, 64)\n",
        "BANDS = [1, 2, 3, 7]  # Selected spectral bands for processing\n",
        "EXPECTED_BANDS = 13   # Expected number of bands for Sentinel-2 data\n",
        "\n",
        "# Dataset configuration\n",
        "DATASET_URL = \"https://zenodo.org/records/7711810/files/EuroSAT_MS.zip?download=1\""
      ],
      "metadata": {
        "id": "oXTD2kviK2xL"
      },
      "execution_count": 10,
      "outputs": []
    },
    {
      "cell_type": "code",
      "source": [
        "# Land type categories\n",
        "LAND_TYPES = [\n",
        "    'Forest', 'River', 'Highway', 'AnnualCrop', 'SeaLake',\n",
        "    'HerbaceousVegetation', 'Industrial', 'Residential',\n",
        "    'PermanentCrop', 'Pasture'\n",
        "]"
      ],
      "metadata": {
        "id": "ktMdiCtSLAbx"
      },
      "execution_count": 11,
      "outputs": []
    },
    {
      "cell_type": "code",
      "source": [
        "# Sentinel-2 band information\n",
        "BAND_LABELS = [\n",
        "    \"B01 - Aerosols\",\n",
        "    \"B02 - Blue\",\n",
        "    \"B03 - Green\",\n",
        "    \"B04 - Red\",\n",
        "    \"B05 - Red edge 1\",\n",
        "    \"B06 - Red edge 2\",\n",
        "    \"B07 - Red edge 3\",\n",
        "    \"B08 - NIR\",\n",
        "    \"B08A - Red edge 4\",\n",
        "    \"B09 - Water vapor\",\n",
        "    \"B10 - Cirrus\",\n",
        "    \"B11 - SWIR 1\",\n",
        "    \"B12 - SWIR 2\"\n",
        "]"
      ],
      "metadata": {
        "id": "V1s2coAaLCCq"
      },
      "execution_count": 12,
      "outputs": []
    },
    {
      "cell_type": "code",
      "source": [
        "# Color maps for band visualization\n",
        "BAND_COLORS = [\n",
        "    'gray',     # B01 - Aerosols\n",
        "    'Blues',    # B02 - Blue\n",
        "    'Greens',   # B03 - Green\n",
        "    'Reds',     # B04 - Red\n",
        "    'YlOrBr',   # B05 - Red edge 1\n",
        "    'YlOrBr',   # B06 - Red edge 2\n",
        "    'YlOrBr',   # B07 - Red edge 3\n",
        "    'Oranges',  # B08 - NIR\n",
        "    'Oranges',  # B08A - Red edge 4\n",
        "    'Purples',  # B09 - Water vapor\n",
        "    'Greys',    # B10 - Cirrus\n",
        "    'PuRd',     # B11 - SWIR 1\n",
        "    'PuBu',     # B12 - SWIR 2\n",
        "]"
      ],
      "metadata": {
        "id": "PZYietw6LESV"
      },
      "execution_count": 13,
      "outputs": []
    },
    {
      "cell_type": "code",
      "source": [
        "# Data split configuration\n",
        "TEST_SIZE = 0.2\n",
        "VAL_SIZE = 0.25\n",
        "RANDOM_STATE = 42"
      ],
      "metadata": {
        "id": "Lxp91MxCLF5U"
      },
      "execution_count": 14,
      "outputs": []
    },
    {
      "cell_type": "code",
      "source": [
        "# Processing types\n",
        "DATA_TYPES = [\"RGB\", \"RGB_NIR\", \"NDVI\"]\n",
        "\n",
        "print(\"✅ Configuration variables set!\")\n",
        "print(f\"📊 Land types to process: {len(LAND_TYPES)}\")\n",
        "print(f\"🎨 Spectral bands available: {len(BAND_LABELS)}\")"
      ],
      "metadata": {
        "colab": {
          "base_uri": "https://localhost:8080/"
        },
        "id": "T977SC9XLHb0",
        "outputId": "62809110-64c1-4cae-b5a3-056107369f68"
      },
      "execution_count": 15,
      "outputs": [
        {
          "output_type": "stream",
          "name": "stdout",
          "text": [
            "✅ Configuration variables set!\n",
            "📊 Land types to process: 10\n",
            "🎨 Spectral bands available: 13\n"
          ]
        }
      ]
    },
    {
      "cell_type": "markdown",
      "source": [
        "### DIRECTORY SETUP"
      ],
      "metadata": {
        "id": "9dOyT33ILM_k"
      }
    },
    {
      "cell_type": "code",
      "source": [
        "# Define base paths\n",
        "BASE_PATH = \"/content/drive/My Drive/DEPI/Data\"\n",
        "ORIGINAL_DATA_PATH = os.path.join(BASE_PATH, \"Original_Data\")\n",
        "PROCESSED_DATA_PATH = os.path.join(BASE_PATH, \"Processed_Data\")"
      ],
      "metadata": {
        "id": "0NctFBYBLIKj"
      },
      "execution_count": 16,
      "outputs": []
    },
    {
      "cell_type": "code",
      "source": [
        "# Create main directories\n",
        "os.makedirs(ORIGINAL_DATA_PATH, exist_ok=True)\n",
        "os.makedirs(PROCESSED_DATA_PATH, exist_ok=True)"
      ],
      "metadata": {
        "id": "9eaA3fL5LQqN"
      },
      "execution_count": 18,
      "outputs": []
    },
    {
      "cell_type": "code",
      "source": [
        "# Create subdirectories for processed data types\n",
        "for data_type in DATA_TYPES:\n",
        "    type_path = os.path.join(PROCESSED_DATA_PATH, data_type)\n",
        "    os.makedirs(type_path, exist_ok=True)\n",
        "    print(f\"✅ Created directory: {type_path}\")"
      ],
      "metadata": {
        "colab": {
          "base_uri": "https://localhost:8080/"
        },
        "id": "zzm8xwQ1LRrp",
        "outputId": "d6ffa878-a82c-4d14-fdba-008aabb564b4"
      },
      "execution_count": 19,
      "outputs": [
        {
          "output_type": "stream",
          "name": "stdout",
          "text": [
            "✅ Created directory: /content/drive/My Drive/DEPI/Data/Processed_Data/RGB\n",
            "✅ Created directory: /content/drive/My Drive/DEPI/Data/Processed_Data/RGB_NIR\n",
            "✅ Created directory: /content/drive/My Drive/DEPI/Data/Processed_Data/NDVI\n"
          ]
        }
      ]
    },
    {
      "cell_type": "code",
      "source": [
        "# Define specific dataset path\n",
        "EUROSAT_PATH = os.path.join(ORIGINAL_DATA_PATH, 'EuroSAT_MS')\n",
        "\n",
        "print(f\"\\n📁 Directory structure created:\")\n",
        "print(f\"   Original data: {ORIGINAL_DATA_PATH}\")\n",
        "print(f\"   Processed data: {PROCESSED_DATA_PATH}\")\n",
        "print(f\"   EuroSAT dataset: {EUROSAT_PATH}\")"
      ],
      "metadata": {
        "colab": {
          "base_uri": "https://localhost:8080/"
        },
        "id": "wd9W-DDfLUM6",
        "outputId": "829558dd-59e4-4a60-86a7-b31581e9d7a3"
      },
      "execution_count": 20,
      "outputs": [
        {
          "output_type": "stream",
          "name": "stdout",
          "text": [
            "\n",
            "📁 Directory structure created:\n",
            "   Original data: /content/drive/My Drive/DEPI/Data/Original_Data\n",
            "   Processed data: /content/drive/My Drive/DEPI/Data/Processed_Data\n",
            "   EuroSAT dataset: /content/drive/My Drive/DEPI/Data/Original_Data/EuroSAT_MS\n"
          ]
        }
      ]
    },
    {
      "cell_type": "markdown",
      "source": [
        "### AUGMENTATION SETUP"
      ],
      "metadata": {
        "id": "WE_0GmXILY4a"
      }
    },
    {
      "cell_type": "code",
      "source": [
        "# Configure image augmentation pipeline\n",
        "augmentation = A.Compose([\n",
        "    A.HorizontalFlip(p=0.5),\n",
        "    A.VerticalFlip(p=0.5),\n",
        "    A.RandomBrightnessContrast(p=0.2),\n",
        "])\n",
        "\n",
        "print(\"✅ Augmentation pipeline configured:\")\n",
        "print(\"   - Horizontal flip (50% probability)\")\n",
        "print(\"   - Vertical flip (50% probability)\")\n",
        "print(\"   - Random brightness/contrast (20% probability)\")"
      ],
      "metadata": {
        "colab": {
          "base_uri": "https://localhost:8080/"
        },
        "id": "akaDYdsjLVxe",
        "outputId": "b6854275-e917-40af-83dd-60d4c5fba92b"
      },
      "execution_count": 21,
      "outputs": [
        {
          "output_type": "stream",
          "name": "stdout",
          "text": [
            "✅ Augmentation pipeline configured:\n",
            "   - Horizontal flip (50% probability)\n",
            "   - Vertical flip (50% probability)\n",
            "   - Random brightness/contrast (20% probability)\n"
          ]
        }
      ]
    },
    {
      "cell_type": "markdown",
      "source": [
        "### DATASET DOWNLOAD FUNCTION"
      ],
      "metadata": {
        "id": "EAb6vwYmLiB5"
      }
    },
    {
      "cell_type": "code",
      "source": [
        "def download_eurosat_dataset(destination=ORIGINAL_DATA_PATH):\n",
        "    \"\"\"\n",
        "    Download and extract the EuroSAT dataset.\n",
        "\n",
        "    Args:\n",
        "        destination (str): Path where the dataset should be extracted\n",
        "    \"\"\"\n",
        "    print(\"🌍 Starting EuroSAT dataset download...\")\n",
        "\n",
        "    # Ensure destination directory exists\n",
        "    os.makedirs(destination, exist_ok=True)\n",
        "    zip_path = os.path.join(destination, 'EuroSAT.zip')\n",
        "\n",
        "    try:\n",
        "        # Download dataset\n",
        "        print(\"📥 Downloading EuroSAT Multispectral dataset...\")\n",
        "        with requests.get(DATASET_URL, stream=True) as response:\n",
        "            response.raise_for_status()\n",
        "            total_size = int(response.headers.get('content-length', 0))\n",
        "\n",
        "            with open(zip_path, 'wb') as file:\n",
        "                downloaded = 0\n",
        "                for chunk in response.iter_content(chunk_size=8192):\n",
        "                    if chunk:\n",
        "                        file.write(chunk)\n",
        "                        downloaded += len(chunk)\n",
        "                        if total_size > 0:\n",
        "                            percent = (downloaded / total_size) * 100\n",
        "                            print(f\"\\rProgress: {percent:.1f}%\", end='', flush=True)\n",
        "\n",
        "        print(\"\\n📦 Extracting dataset...\")\n",
        "        with zipfile.ZipFile(zip_path, 'r') as zip_ref:\n",
        "            zip_ref.extractall(destination)\n",
        "\n",
        "        # Clean up zip file\n",
        "        os.remove(zip_path)\n",
        "        print(f\"✅ Dataset successfully downloaded and extracted!\")\n",
        "\n",
        "    except Exception as e:\n",
        "        print(f\"❌ Error downloading dataset: {str(e)}\")\n",
        "        raise\n",
        "\n",
        "print(\"✅ Download function defined!\")"
      ],
      "metadata": {
        "colab": {
          "base_uri": "https://localhost:8080/"
        },
        "id": "cC4zxzxDLcpp",
        "outputId": "a0bce9aa-80eb-47ec-f4fe-13349ba0267b"
      },
      "execution_count": 22,
      "outputs": [
        {
          "output_type": "stream",
          "name": "stdout",
          "text": [
            "✅ Download function defined!\n"
          ]
        }
      ]
    },
    {
      "cell_type": "markdown",
      "source": [
        "### DOWNLOAD AND VERIFY DATASET"
      ],
      "metadata": {
        "id": "XG75l3U-LonZ"
      }
    },
    {
      "cell_type": "code",
      "source": [
        "# Check if dataset already exists, if not download it\n",
        "if not os.path.exists(EUROSAT_PATH):\n",
        "    print(\"📂 Dataset not found. Starting download...\")\n",
        "    download_eurosat_dataset()\n",
        "else:\n",
        "    print(\"✅ Dataset already exists!\")"
      ],
      "metadata": {
        "colab": {
          "base_uri": "https://localhost:8080/"
        },
        "id": "AnQzsejnLluC",
        "outputId": "c125ce54-a763-459e-b7f1-7ac8ad95bb2f"
      },
      "execution_count": 23,
      "outputs": [
        {
          "output_type": "stream",
          "name": "stdout",
          "text": [
            "📂 Dataset not found. Starting download...\n",
            "🌍 Starting EuroSAT dataset download...\n",
            "📥 Downloading EuroSAT Multispectral dataset...\n",
            "Progress: 100.0%\n",
            "📦 Extracting dataset...\n",
            "✅ Dataset successfully downloaded and extracted!\n"
          ]
        }
      ]
    },
    {
      "cell_type": "code",
      "source": [
        "# Verify dataset structure\n",
        "if os.path.exists(EUROSAT_PATH):\n",
        "    print(f\"\\n📊 Dataset verification:\")\n",
        "    print(f\"   Dataset path: {EUROSAT_PATH}\")\n",
        "\n",
        "    # List available categories\n",
        "    categories = [d for d in os.listdir(EUROSAT_PATH) if os.path.isdir(os.path.join(EUROSAT_PATH, d))]\n",
        "    print(f\"   Categories found: {len(categories)}\")\n",
        "\n",
        "    for category in sorted(categories):\n",
        "        category_path = os.path.join(EUROSAT_PATH, category)\n",
        "        file_count = len([f for f in os.listdir(category_path) if f.endswith('.tif')])\n",
        "        print(f\"      - {category}: {file_count} images\")\n",
        "else:\n",
        "    print(\"❌ Dataset verification failed!\")"
      ],
      "metadata": {
        "colab": {
          "base_uri": "https://localhost:8080/"
        },
        "id": "baATVQxULsc1",
        "outputId": "9c2ba1b4-6533-4910-c949-904a2901864c"
      },
      "execution_count": 24,
      "outputs": [
        {
          "output_type": "stream",
          "name": "stdout",
          "text": [
            "\n",
            "📊 Dataset verification:\n",
            "   Dataset path: /content/drive/My Drive/DEPI/Data/Original_Data/EuroSAT_MS\n",
            "   Categories found: 10\n",
            "      - AnnualCrop: 3000 images\n",
            "      - Forest: 3000 images\n",
            "      - HerbaceousVegetation: 3000 images\n",
            "      - Highway: 2500 images\n",
            "      - Industrial: 2500 images\n",
            "      - Pasture: 2000 images\n",
            "      - PermanentCrop: 2500 images\n",
            "      - Residential: 3000 images\n",
            "      - River: 2500 images\n",
            "      - SeaLake: 3000 images\n"
          ]
        }
      ]
    },
    {
      "cell_type": "markdown",
      "source": [
        "### UTILITY FUNCTIONS FOR DATA EXPLORATION"
      ],
      "metadata": {
        "id": "C_yA28DrM3OG"
      }
    },
    {
      "cell_type": "code",
      "source": [
        "def count_images_in_folders(root_path, file_extension='.tif'):\n",
        "    \"\"\"\n",
        "    Count images in folder structure and display statistics.\n",
        "\n",
        "    Args:\n",
        "        root_path (str): Root directory path\n",
        "        file_extension (str): File extension to count\n",
        "    \"\"\"\n",
        "    for main_dir in os.listdir(root_path):\n",
        "        main_dir_path = os.path.join(root_path, main_dir)\n",
        "        if not os.path.isdir(main_dir_path):\n",
        "            continue\n",
        "\n",
        "        print(f\"\\n📁 {main_dir} Folder:\")\n",
        "        total_images = 0\n",
        "\n",
        "        for category in os.listdir(main_dir_path):\n",
        "            category_path = os.path.join(main_dir_path, category)\n",
        "            if not os.path.isdir(category_path):\n",
        "                continue\n",
        "\n",
        "            image_count = len([\n",
        "                file for file in os.listdir(category_path)\n",
        "                if file.lower().endswith(file_extension)\n",
        "            ])\n",
        "\n",
        "            total_images += image_count\n",
        "            print(f\"  📂 {category}: {image_count} images\")\n",
        "\n",
        "        print(f\"🔢 Total in {main_dir}: {total_images} images\")"
      ],
      "metadata": {
        "id": "7LGj920vLt1A"
      },
      "execution_count": 25,
      "outputs": []
    },
    {
      "cell_type": "code",
      "source": [
        "def display_setup_summary():\n",
        "    \"\"\"Display a summary of the current setup configuration.\"\"\"\n",
        "    print(\"🎯 SETUP SUMMARY\")\n",
        "    print(\"=\" * 50)\n",
        "    print(f\"📁 Original data path: {ORIGINAL_DATA_PATH}\")\n",
        "    print(f\"📁 Processed data path: {PROCESSED_DATA_PATH}\")\n",
        "    print(f\"📁 EuroSAT dataset path: {EUROSAT_PATH}\")\n",
        "    print(f\"🖼️  Image size: {IMAGE_SIZE}\")\n",
        "    print(f\"📊 Selected bands: {BANDS}\")\n",
        "    print(f\"🏷️  Land types: {len(LAND_TYPES)}\")\n",
        "    print(f\"🎨 Data types to generate: {DATA_TYPES}\")\n",
        "    print(f\"🔄 Augmentation: Enabled\")\n",
        "    print(\"=\" * 50)\n",
        "    print(\"✅ Setup completed successfully!\")\n",
        "\n",
        "print(\"✅ Utility functions defined!\")"
      ],
      "metadata": {
        "colab": {
          "base_uri": "https://localhost:8080/"
        },
        "id": "JQ9L_sAcM6hL",
        "outputId": "35beb8e9-2bbe-48a5-812a-a97d6cfc300a"
      },
      "execution_count": 26,
      "outputs": [
        {
          "output_type": "stream",
          "name": "stdout",
          "text": [
            "✅ Utility functions defined!\n"
          ]
        }
      ]
    },
    {
      "cell_type": "markdown",
      "source": [
        "### FINAL SETUP VERIFICATION"
      ],
      "metadata": {
        "id": "Qj2RVCrONCRb"
      }
    },
    {
      "cell_type": "code",
      "source": [
        "# Display setup summary\n",
        "display_setup_summary()"
      ],
      "metadata": {
        "colab": {
          "base_uri": "https://localhost:8080/"
        },
        "id": "JUxs-h7VM_f6",
        "outputId": "a9450435-77a9-4001-e47e-aab517312741"
      },
      "execution_count": 27,
      "outputs": [
        {
          "output_type": "stream",
          "name": "stdout",
          "text": [
            "🎯 SETUP SUMMARY\n",
            "==================================================\n",
            "📁 Original data path: /content/drive/My Drive/DEPI/Data/Original_Data\n",
            "📁 Processed data path: /content/drive/My Drive/DEPI/Data/Processed_Data\n",
            "📁 EuroSAT dataset path: /content/drive/My Drive/DEPI/Data/Original_Data/EuroSAT_MS\n",
            "🖼️  Image size: (64, 64)\n",
            "📊 Selected bands: [1, 2, 3, 7]\n",
            "🏷️  Land types: 10\n",
            "🎨 Data types to generate: ['RGB', 'RGB_NIR', 'NDVI']\n",
            "🔄 Augmentation: Enabled\n",
            "==================================================\n",
            "✅ Setup completed successfully!\n"
          ]
        }
      ]
    },
    {
      "cell_type": "code",
      "source": [
        "# Count original dataset images\n",
        "print(\"\\n📊 Original dataset statistics:\")\n",
        "count_images_in_folders(ORIGINAL_DATA_PATH)"
      ],
      "metadata": {
        "colab": {
          "base_uri": "https://localhost:8080/"
        },
        "id": "-AGhb_XcNG9_",
        "outputId": "19c4f49e-2632-4504-d52e-474d4fd0066b"
      },
      "execution_count": 28,
      "outputs": [
        {
          "output_type": "stream",
          "name": "stdout",
          "text": [
            "\n",
            "📊 Original dataset statistics:\n",
            "\n",
            "📁 EuroSAT_MS Folder:\n",
            "  📂 Forest: 3000 images\n",
            "  📂 River: 2500 images\n",
            "  📂 Highway: 2500 images\n",
            "  📂 AnnualCrop: 3000 images\n",
            "  📂 SeaLake: 3000 images\n",
            "  📂 HerbaceousVegetation: 3000 images\n",
            "  📂 Industrial: 2500 images\n",
            "  📂 Residential: 3000 images\n",
            "  📂 PermanentCrop: 2500 images\n",
            "  📂 Pasture: 2000 images\n",
            "🔢 Total in EuroSAT_MS: 27000 images\n"
          ]
        }
      ]
    },
    {
      "cell_type": "code",
      "source": [
        "# Verify sample image properties\n",
        "sample_image_path = None\n",
        "for root, dirs, files in os.walk(EUROSAT_PATH):\n",
        "    for file in files:\n",
        "        if file.endswith(\".tif\"):\n",
        "            sample_image_path = os.path.join(root, file)\n",
        "            break\n",
        "    if sample_image_path:\n",
        "        break"
      ],
      "metadata": {
        "id": "fK6SM344NI0P"
      },
      "execution_count": 29,
      "outputs": []
    },
    {
      "cell_type": "code",
      "source": [
        "if sample_image_path:\n",
        "    with rasterio.open(sample_image_path) as src:\n",
        "        num_bands = src.count\n",
        "        width, height = src.width, src.height\n",
        "        print(f\"\\n🖼️  Sample image analysis:\")\n",
        "        print(f\"   File: {os.path.basename(sample_image_path)}\")\n",
        "        print(f\"   Dimensions: {width} x {height}\")\n",
        "        print(f\"   Spectral bands: {num_bands}\")\n",
        "        print(f\"   Data type: {src.dtypes[0]}\")\n",
        "else:\n",
        "    print(\"❌ No sample image found!\")"
      ],
      "metadata": {
        "colab": {
          "base_uri": "https://localhost:8080/"
        },
        "id": "Qkxi73tdNKnE",
        "outputId": "311ef706-1580-40a7-e123-db0ef50c7500"
      },
      "execution_count": 30,
      "outputs": [
        {
          "output_type": "stream",
          "name": "stdout",
          "text": [
            "\n",
            "🖼️  Sample image analysis:\n",
            "   File: Forest_2230.tif\n",
            "   Dimensions: 64 x 64\n",
            "   Spectral bands: 13\n",
            "   Data type: uint16\n"
          ]
        }
      ]
    },
    {
      "cell_type": "markdown",
      "source": [
        "---"
      ],
      "metadata": {
        "id": "Cn5TVaIkNNW1"
      }
    },
    {
      "cell_type": "code",
      "source": [
        "print(\"\\n🚀 Ready to proceed with data exploration and preprocessing!\")"
      ],
      "metadata": {
        "colab": {
          "base_uri": "https://localhost:8080/"
        },
        "id": "ymb8j_RpNM6t",
        "outputId": "8fa7a63d-08e6-4a58-de55-cf09174be2bb"
      },
      "execution_count": 31,
      "outputs": [
        {
          "output_type": "stream",
          "name": "stdout",
          "text": [
            "\n",
            "🚀 Ready to proceed with data exploration and preprocessing!\n"
          ]
        }
      ]
    },
    {
      "cell_type": "markdown",
      "source": [
        "---"
      ],
      "metadata": {
        "id": "s7BYflpFZOgP"
      }
    },
    {
      "cell_type": "markdown",
      "source": [
        "## IMAGE PROCESSING"
      ],
      "metadata": {
        "id": "Qeoe_TJjcwC-"
      }
    },
    {
      "cell_type": "markdown",
      "source": [
        "This section builds on the setup configuration already defined above\n"
      ],
      "metadata": {
        "id": "z2DKtCLycw2b"
      }
    },
    {
      "cell_type": "markdown",
      "source": [
        "## IMPORTING"
      ],
      "metadata": {
        "id": "pFSVghsNc5s8"
      }
    },
    {
      "cell_type": "code",
      "source": [
        "import logging\n",
        "from typing import Tuple, Optional, List, Union, Dict\n",
        "from concurrent.futures import ThreadPoolExecutor, as_completed\n",
        "import warnings"
      ],
      "metadata": {
        "id": "XweLD8UHZOxD"
      },
      "execution_count": 32,
      "outputs": []
    },
    {
      "cell_type": "code",
      "source": [
        "# Configure logging for processing feedback\n",
        "logging.basicConfig(level=logging.INFO, format='%(asctime)s - %(levelname)s - %(message)s')\n",
        "logger = logging.getLogger(__name__)"
      ],
      "metadata": {
        "id": "G0ul1hMMc9vs"
      },
      "execution_count": 33,
      "outputs": []
    },
    {
      "cell_type": "code",
      "source": [
        "# Suppress warnings for cleaner output\n",
        "warnings.filterwarnings('ignore', category=UserWarning)\n",
        "warnings.filterwarnings('ignore', category=FutureWarning)"
      ],
      "metadata": {
        "id": "3qjjuNgadUIB"
      },
      "execution_count": 34,
      "outputs": []
    },
    {
      "cell_type": "markdown",
      "source": [
        "### IMAGE PROCESSOR"
      ],
      "metadata": {
        "id": "Psl5L0mxdvg6"
      }
    },
    {
      "cell_type": "code",
      "source": [
        "class SatelliteImageProcessor:\n",
        "    \"\"\"\n",
        "    Optimized processor for satellite imagery with error handling and efficiency optimizations.\n",
        "    Uses the configuration variables already defined in the setup section.\n",
        "    \"\"\"\n",
        "\n",
        "    def __init__(self):\n",
        "        \"\"\"Initialize using the global configuration variables.\"\"\"\n",
        "        self.image_size = IMAGE_SIZE\n",
        "        self.expected_bands = EXPECTED_BANDS\n",
        "        self.augmentation = augmentation  # Use the already defined augmentation pipeline\n",
        "        self._metadata_cache = {}\n",
        "\n",
        "        logger.info(f\"Initialized SatelliteImageProcessor with size {self.image_size}\")\n",
        "\n",
        "    def validate_image_file(self, image_path: str) -> Dict[str, Union[bool, str, int]]:\n",
        "        \"\"\"\n",
        "        Validate a single image file for integrity and expected properties.\n",
        "\n",
        "        Args:\n",
        "            image_path: Path to the image file\n",
        "\n",
        "        Returns:\n",
        "            Dictionary containing validation results\n",
        "        \"\"\"\n",
        "        result = {\n",
        "            'valid': False,\n",
        "            'error': None,\n",
        "            'bands': 0,\n",
        "            'width': 0,\n",
        "            'height': 0,\n",
        "            'dtype': None\n",
        "        }\n",
        "\n",
        "        try:\n",
        "            if not os.path.exists(image_path):\n",
        "                result['error'] = 'File does not exist'\n",
        "                return result\n",
        "\n",
        "            with rasterio.open(image_path) as src:\n",
        "                result['bands'] = src.count\n",
        "                result['width'] = src.width\n",
        "                result['height'] = src.height\n",
        "                result['dtype'] = str(src.dtypes[0])\n",
        "\n",
        "                # Check for correct number of bands\n",
        "                if src.count != self.expected_bands:\n",
        "                    result['error'] = f'Unexpected band count: {src.count}/{self.expected_bands}'\n",
        "                    return result\n",
        "\n",
        "                # Quick data quality check on first band\n",
        "                sample_data = src.read(1, window=rasterio.windows.Window(0, 0, 100, 100))\n",
        "\n",
        "                if np.isnan(sample_data).any() or np.isinf(sample_data).any():\n",
        "                    result['error'] = 'Contains NaN or Inf values'\n",
        "                    return result\n",
        "\n",
        "                if np.std(sample_data) < 1e-6:\n",
        "                    result['error'] = 'Constant values detected'\n",
        "                    return result\n",
        "\n",
        "                result['valid'] = True\n",
        "\n",
        "        except Exception as e:\n",
        "            result['error'] = f'Error: {str(e)}'\n",
        "\n",
        "        return result\n",
        "\n",
        "    def load_tiff_image(self, image_path: str, bands: Optional[List[int]] = None) -> Optional[np.ndarray]:\n",
        "        \"\"\"\n",
        "        Load and normalize a TIFF image with specified bands.\n",
        "\n",
        "        Args:\n",
        "            image_path: Path to the TIFF file\n",
        "            bands: List of band indices to load (1-based). If None, loads all bands\n",
        "\n",
        "        Returns:\n",
        "            Normalized image array (H, W, C) or None if loading failed\n",
        "        \"\"\"\n",
        "        try:\n",
        "            with rasterio.open(image_path) as src:\n",
        "                if bands is None:\n",
        "                    bands = list(range(1, src.count + 1))\n",
        "\n",
        "                # Read selected bands\n",
        "                img = src.read(bands).astype(np.float32)\n",
        "\n",
        "                # Transpose to (H, W, C) format\n",
        "                img = np.transpose(img, (1, 2, 0))\n",
        "\n",
        "                # Resize if needed\n",
        "                if img.shape[:2] != self.image_size:\n",
        "                    img = cv2.resize(img, self.image_size, interpolation=cv2.INTER_LINEAR)\n",
        "\n",
        "                # Normalize to [0, 1] range with numerical stability\n",
        "                img_min, img_max = img.min(), img.max()\n",
        "                if img_max - img_min > 1e-8:\n",
        "                    img = (img - img_min) / (img_max - img_min)\n",
        "                else:\n",
        "                    img = np.zeros_like(img)\n",
        "\n",
        "                return img\n",
        "\n",
        "        except Exception as e:\n",
        "            logger.error(f\"Error loading {image_path}: {str(e)}\")\n",
        "            return None\n",
        "\n",
        "    def load_rgb_image(self, image_path: str, bands: List[int] = [4, 3, 2]) -> Optional[np.ndarray]:\n",
        "        \"\"\"Load RGB image using specified bands (Red, Green, Blue for Sentinel-2).\"\"\"\n",
        "        return self.load_tiff_image(image_path, bands)\n",
        "\n",
        "    def load_rgb_nir_image(self, image_path: str, bands: List[int] = [4, 3, 2, 8]) -> Optional[np.ndarray]:\n",
        "        \"\"\"Load RGB + NIR image using specified bands.\"\"\"\n",
        "        return self.load_tiff_image(image_path, bands)\n",
        "\n",
        "    def compute_ndvi(self, image: np.ndarray, nir_band: int = 3, red_band: int = 0) -> np.ndarray:\n",
        "        \"\"\"\n",
        "        Compute Normalized Difference Vegetation Index (NDVI).\n",
        "\n",
        "        Args:\n",
        "            image: Image array with NIR and Red bands\n",
        "            nir_band: Index of Near-Infrared band in the image array\n",
        "            red_band: Index of Red band in the image array\n",
        "\n",
        "        Returns:\n",
        "            NDVI array (H, W)\n",
        "        \"\"\"\n",
        "        try:\n",
        "            nir = image[:, :, nir_band].astype(np.float32)\n",
        "            red = image[:, :, red_band].astype(np.float32)\n",
        "\n",
        "            # Calculate NDVI with numerical stability\n",
        "            denominator = nir + red + 1e-8\n",
        "            ndvi = (nir - red) / denominator\n",
        "\n",
        "            # Clip to valid NDVI range [-1, 1]\n",
        "            ndvi = np.clip(ndvi, -1, 1)\n",
        "\n",
        "            return ndvi\n",
        "\n",
        "        except IndexError as e:\n",
        "            logger.error(f\"Band index error in NDVI computation: {str(e)}\")\n",
        "            return np.zeros((self.image_size[1], self.image_size[0]), dtype=np.float32)\n",
        "        except Exception as e:\n",
        "            logger.error(f\"Error computing NDVI: {str(e)}\")\n",
        "            return np.zeros((self.image_size[1], self.image_size[0]), dtype=np.float32)\n",
        "\n",
        "    def apply_augmentation(self, image: np.ndarray) -> np.ndarray:\n",
        "        \"\"\"\n",
        "        Apply augmentation to an image using the pre-defined augmentation pipeline.\n",
        "\n",
        "        Args:\n",
        "            image: Input image array\n",
        "\n",
        "        Returns:\n",
        "            Augmented image array\n",
        "        \"\"\"\n",
        "        try:\n",
        "            # Convert to uint8 for albumentations\n",
        "            if image.max() <= 1.0:\n",
        "                image_uint8 = (image * 255).astype(np.uint8)\n",
        "            else:\n",
        "                image_uint8 = image.astype(np.uint8)\n",
        "\n",
        "            # Apply augmentation\n",
        "            augmented = self.augmentation(image=image_uint8)['image']\n",
        "\n",
        "            # Convert back to float32\n",
        "            return augmented.astype(np.float32) / 255.0\n",
        "\n",
        "        except Exception as e:\n",
        "            logger.error(f\"Error applying augmentation: {str(e)}\")\n",
        "            return image\n",
        "\n",
        "    def process_single_image(self, image_path: str, category: str) -> Dict[str, bool]:\n",
        "        \"\"\"\n",
        "        Process a single image and save all variants (RGB, RGB+NIR, NDVI).\n",
        "        Uses the global PROCESSED_DATA_PATH for output.\n",
        "\n",
        "        Args:\n",
        "            image_path: Path to input image\n",
        "            category: Category/class name\n",
        "\n",
        "        Returns:\n",
        "            Dictionary indicating success/failure for each processing type\n",
        "        \"\"\"\n",
        "        results = {'rgb': False, 'rgb_nir': False, 'ndvi': False, 'augmented': False}\n",
        "\n",
        "        try:\n",
        "            base_name = os.path.splitext(os.path.basename(image_path))[0]\n",
        "\n",
        "            # Load different image variants\n",
        "            rgb_img = self.load_rgb_image(image_path)\n",
        "            rgb_nir_img = self.load_rgb_nir_image(image_path)\n",
        "\n",
        "            if rgb_img is None or rgb_nir_img is None:\n",
        "                logger.warning(f\"Failed to load image: {image_path}\")\n",
        "                return results\n",
        "\n",
        "            # Compute NDVI\n",
        "            ndvi_img = self.compute_ndvi(rgb_nir_img)\n",
        "\n",
        "            # Create category directories using global paths\n",
        "            for data_type in DATA_TYPES:\n",
        "                cat_dir = os.path.join(PROCESSED_DATA_PATH, data_type, category)\n",
        "                os.makedirs(cat_dir, exist_ok=True)\n",
        "\n",
        "            # Save original versions\n",
        "            try:\n",
        "                np.save(os.path.join(PROCESSED_DATA_PATH, 'RGB', category, f'{base_name}.npy'), rgb_img)\n",
        "                results['rgb'] = True\n",
        "            except Exception as e:\n",
        "                logger.error(f\"Error saving RGB image {base_name}: {str(e)}\")\n",
        "\n",
        "            try:\n",
        "                np.save(os.path.join(PROCESSED_DATA_PATH, 'RGB_NIR', category, f'{base_name}.npy'), rgb_nir_img)\n",
        "                results['rgb_nir'] = True\n",
        "            except Exception as e:\n",
        "                logger.error(f\"Error saving RGB_NIR image {base_name}: {str(e)}\")\n",
        "\n",
        "            try:\n",
        "                np.save(os.path.join(PROCESSED_DATA_PATH, 'NDVI', category, f'{base_name}.npy'), ndvi_img)\n",
        "                results['ndvi'] = True\n",
        "            except Exception as e:\n",
        "                logger.error(f\"Error saving NDVI image {base_name}: {str(e)}\")\n",
        "\n",
        "            # Save augmented RGB version\n",
        "            try:\n",
        "                rgb_aug = self.apply_augmentation(rgb_img)\n",
        "                np.save(os.path.join(PROCESSED_DATA_PATH, 'RGB', category, f'{base_name}_aug.npy'), rgb_aug)\n",
        "                results['augmented'] = True\n",
        "            except Exception as e:\n",
        "                logger.error(f\"Error saving augmented image {base_name}: {str(e)}\")\n",
        "\n",
        "        except Exception as e:\n",
        "            logger.error(f\"Error processing image {image_path}: {str(e)}\")\n",
        "\n",
        "        return results"
      ],
      "metadata": {
        "id": "-yjsvUMldWL0"
      },
      "execution_count": 35,
      "outputs": []
    },
    {
      "cell_type": "code",
      "source": [
        "# Initialize the processor\n",
        "processor = SatelliteImageProcessor()\n",
        "print(\"✅ SatelliteImageProcessor initialized and ready!\")"
      ],
      "metadata": {
        "colab": {
          "base_uri": "https://localhost:8080/"
        },
        "id": "c9JZfOaDdgOf",
        "outputId": "99312ba5-108a-4707-d365-faacf1a6e977"
      },
      "execution_count": 37,
      "outputs": [
        {
          "output_type": "stream",
          "name": "stdout",
          "text": [
            "✅ SatelliteImageProcessor initialized and ready!\n"
          ]
        }
      ]
    },
    {
      "cell_type": "markdown",
      "source": [
        "### DATASET VALIDATION AND PROCESSING FUNCTIONS"
      ],
      "metadata": {
        "id": "nU277I6PdrHQ"
      }
    },
    {
      "cell_type": "code",
      "source": [
        "def validate_dataset(max_workers: int = 4) -> Dict[str, any]:\n",
        "    \"\"\"\n",
        "    Validate the EuroSAT dataset using parallel processing.\n",
        "\n",
        "    Args:\n",
        "        max_workers: Number of parallel workers\n",
        "\n",
        "    Returns:\n",
        "        Dictionary containing validation statistics\n",
        "    \"\"\"\n",
        "    logger.info(\"Starting dataset validation...\")\n",
        "\n",
        "    stats = {\n",
        "        'total_files': 0,\n",
        "        'valid_files': 0,\n",
        "        'corrupted_files': 0,\n",
        "        'categories': {},\n",
        "        'errors': []\n",
        "    }\n",
        "\n",
        "    # Collect all image files\n",
        "    image_files = []\n",
        "    for category in LAND_TYPES:\n",
        "        category_path = os.path.join(EUROSAT_PATH, category)\n",
        "        if not os.path.exists(category_path):\n",
        "            logger.warning(f\"Category directory not found: {category}\")\n",
        "            continue\n",
        "\n",
        "        stats['categories'][category] = {'total': 0, 'valid': 0, 'errors': []}\n",
        "\n",
        "        for filename in os.listdir(category_path):\n",
        "            if filename.lower().endswith('.tif'):\n",
        "                image_files.append((os.path.join(category_path, filename), category))\n",
        "                stats['categories'][category]['total'] += 1\n",
        "                stats['total_files'] += 1\n",
        "\n",
        "    print(f\"🔍 Validating {stats['total_files']} images across {len(stats['categories'])} categories...\")\n",
        "\n",
        "    # Parallel validation\n",
        "    with ThreadPoolExecutor(max_workers=max_workers) as executor:\n",
        "        future_to_file = {\n",
        "            executor.submit(processor.validate_image_file, file_path): (file_path, category)\n",
        "            for file_path, category in image_files\n",
        "        }\n",
        "\n",
        "        completed = 0\n",
        "        for future in as_completed(future_to_file):\n",
        "            file_path, category = future_to_file[future]\n",
        "            completed += 1\n",
        "\n",
        "            if completed % 500 == 0:\n",
        "                print(f\"   Progress: {completed}/{len(image_files)} files validated...\")\n",
        "\n",
        "            try:\n",
        "                result = future.result()\n",
        "                if result['valid']:\n",
        "                    stats['valid_files'] += 1\n",
        "                    stats['categories'][category]['valid'] += 1\n",
        "                else:\n",
        "                    stats['corrupted_files'] += 1\n",
        "                    error_info = f\"{os.path.basename(file_path)}: {result['error']}\"\n",
        "                    stats['categories'][category]['errors'].append(error_info)\n",
        "                    if len(stats['errors']) < 20:  # Limit stored errors\n",
        "                        stats['errors'].append(error_info)\n",
        "\n",
        "            except Exception as e:\n",
        "                stats['corrupted_files'] += 1\n",
        "                error_info = f\"{os.path.basename(file_path)}: {str(e)}\"\n",
        "                stats['categories'][category]['errors'].append(error_info)\n",
        "                if len(stats['errors']) < 20:\n",
        "                    stats['errors'].append(error_info)\n",
        "\n",
        "    logger.info(f\"Validation complete: {stats['valid_files']}/{stats['total_files']} files valid\")\n",
        "    return stats"
      ],
      "metadata": {
        "id": "IAlS7UyIdmqW"
      },
      "execution_count": 38,
      "outputs": []
    },
    {
      "cell_type": "code",
      "source": [
        "def process_dataset(max_workers: int = 4, sample_size: Optional[int] = None) -> Dict[str, int]:\n",
        "    \"\"\"\n",
        "    Process the EuroSAT dataset using parallel processing.\n",
        "\n",
        "    Args:\n",
        "        max_workers: Number of parallel workers\n",
        "        sample_size: If specified, process only this many images per category (for testing)\n",
        "\n",
        "    Returns:\n",
        "        Dictionary containing processing statistics\n",
        "    \"\"\"\n",
        "    logger.info(\"Starting batch dataset processing...\")\n",
        "\n",
        "    stats = {\n",
        "        'total_processed': 0,\n",
        "        'successful': 0,\n",
        "        'failed': 0,\n",
        "        'categories': {}\n",
        "    }\n",
        "\n",
        "    # Collect all processing tasks\n",
        "    tasks = []\n",
        "    for category in LAND_TYPES:\n",
        "        category_path = os.path.join(EUROSAT_PATH, category)\n",
        "        if not os.path.exists(category_path):\n",
        "            logger.warning(f\"Category directory not found: {category}\")\n",
        "            continue\n",
        "\n",
        "        stats['categories'][category] = {'processed': 0, 'failed': 0}\n",
        "\n",
        "        files = [f for f in os.listdir(category_path) if f.lower().endswith('.tif')]\n",
        "\n",
        "        # Apply sample size limit if specified\n",
        "        if sample_size:\n",
        "            files = files[:sample_size]\n",
        "\n",
        "        for filename in files:\n",
        "            image_path = os.path.join(category_path, filename)\n",
        "            tasks.append((image_path, category))\n",
        "\n",
        "    stats['total_processed'] = len(tasks)\n",
        "    print(f\"🔄 Processing {len(tasks)} images...\")\n",
        "\n",
        "    # Process in parallel\n",
        "    with ThreadPoolExecutor(max_workers=max_workers) as executor:\n",
        "        future_to_task = {\n",
        "            executor.submit(processor.process_single_image, image_path, category):\n",
        "            (image_path, category)\n",
        "            for image_path, category in tasks\n",
        "        }\n",
        "\n",
        "        completed = 0\n",
        "        for future in as_completed(future_to_task):\n",
        "            image_path, category = future_to_task[future]\n",
        "            completed += 1\n",
        "\n",
        "            if completed % 100 == 0:\n",
        "                print(f\"   Progress: {completed}/{len(tasks)} images processed...\")\n",
        "\n",
        "            try:\n",
        "                results = future.result()\n",
        "                if any(results.values()):\n",
        "                    stats['successful'] += 1\n",
        "                    stats['categories'][category]['processed'] += 1\n",
        "                else:\n",
        "                    stats['failed'] += 1\n",
        "                    stats['categories'][category]['failed'] += 1\n",
        "\n",
        "            except Exception as e:\n",
        "                stats['failed'] += 1\n",
        "                stats['categories'][category]['failed'] += 1\n",
        "                logger.error(f\"Failed to process {image_path}: {str(e)}\")\n",
        "\n",
        "    logger.info(f\"Processing complete: {stats['successful']}/{stats['total_processed']} successful\")\n",
        "    return stats\n",
        "\n",
        "def display_processing_summary(stats: Dict[str, any], title: str = \"PROCESSING SUMMARY\") -> None:\n",
        "    \"\"\"\n",
        "    Display a formatted summary of processing statistics.\n",
        "\n",
        "    Args:\n",
        "        stats: Statistics dictionary from processing operations\n",
        "        title: Title for the summary display\n",
        "    \"\"\"\n",
        "    print(\"\\n\" + \"=\"*60)\n",
        "    print(f\"📊 {title}\")\n",
        "    print(\"=\"*60)\n",
        "\n",
        "    if 'total_processed' in stats:\n",
        "        print(f\"🎯 Total images processed: {stats['total_processed']}\")\n",
        "        print(f\"✅ Successful: {stats['successful']}\")\n",
        "        print(f\"❌ Failed: {stats['failed']}\")\n",
        "        if stats['total_processed'] > 0:\n",
        "            success_rate = (stats['successful'] / stats['total_processed']) * 100\n",
        "            print(f\"📈 Success rate: {success_rate:.1f}%\")\n",
        "\n",
        "        print(f\"\\n📋 Category breakdown:\")\n",
        "        for category, cat_stats in stats['categories'].items():\n",
        "            total = cat_stats['processed'] + cat_stats['failed']\n",
        "            print(f\"   {category}: {cat_stats['processed']}/{total} successful\")\n",
        "\n",
        "    elif 'total_files' in stats:\n",
        "        print(f\"🎯 Total files validated: {stats['total_files']}\")\n",
        "        print(f\"✅ Valid files: {stats['valid_files']}\")\n",
        "        print(f\"❌ Corrupted files: {stats['corrupted_files']}\")\n",
        "        if stats['total_files'] > 0:\n",
        "            validity_rate = (stats['valid_files'] / stats['total_files']) * 100\n",
        "            print(f\"📈 Validity rate: {validity_rate:.1f}%\")\n",
        "\n",
        "        print(f\"\\n📋 Category breakdown:\")\n",
        "        for category, cat_stats in stats['categories'].items():\n",
        "            if cat_stats['total'] > 0:\n",
        "                valid_rate = (cat_stats['valid'] / cat_stats['total']) * 100\n",
        "                print(f\"   {category}: {cat_stats['valid']}/{cat_stats['total']} valid ({valid_rate:.1f}%)\")\n",
        "\n",
        "        if stats['errors']:\n",
        "            print(f\"\\n⚠️  Sample errors (showing first 5):\")\n",
        "            for error in stats['errors'][:5]:\n",
        "                print(f\"   {error}\")\n",
        "\n",
        "    print(\"=\"*60)"
      ],
      "metadata": {
        "id": "KFWO4AO-eGL9"
      },
      "execution_count": 42,
      "outputs": []
    },
    {
      "cell_type": "code",
      "source": [
        "print(\"✅ Processing functions defined and ready to use!\")"
      ],
      "metadata": {
        "colab": {
          "base_uri": "https://localhost:8080/"
        },
        "id": "LTqBWuDReKHx",
        "outputId": "2498f277-5b5b-49bf-d019-2d3bbfc8cff9"
      },
      "execution_count": 43,
      "outputs": [
        {
          "output_type": "stream",
          "name": "stdout",
          "text": [
            "✅ Processing functions defined and ready to use!\n"
          ]
        }
      ]
    },
    {
      "cell_type": "markdown",
      "source": [
        "### EXECUTING"
      ],
      "metadata": {
        "id": "7ORPGjXAgGNt"
      }
    },
    {
      "cell_type": "code",
      "source": [
        "print(\"🔍 Starting dataset validation...\")\n",
        "validation_stats = validate_dataset(max_workers=4)\n",
        "display_processing_summary(validation_stats, \"DATASET VALIDATION\")"
      ],
      "metadata": {
        "colab": {
          "base_uri": "https://localhost:8080/"
        },
        "id": "o6Th-wJ6eXbz",
        "outputId": "83712d6a-2280-49e5-af64-6952cddb1941"
      },
      "execution_count": 44,
      "outputs": [
        {
          "output_type": "stream",
          "name": "stdout",
          "text": [
            "🔍 Starting dataset validation...\n",
            "🔍 Validating 27000 images across 10 categories...\n",
            "   Progress: 500/27000 files validated...\n",
            "   Progress: 1000/27000 files validated...\n",
            "   Progress: 1500/27000 files validated...\n",
            "   Progress: 2000/27000 files validated...\n",
            "   Progress: 2500/27000 files validated...\n",
            "   Progress: 3000/27000 files validated...\n",
            "   Progress: 3500/27000 files validated...\n",
            "   Progress: 4000/27000 files validated...\n",
            "   Progress: 4500/27000 files validated...\n",
            "   Progress: 5000/27000 files validated...\n",
            "   Progress: 5500/27000 files validated...\n",
            "   Progress: 6000/27000 files validated...\n",
            "   Progress: 6500/27000 files validated...\n",
            "   Progress: 7000/27000 files validated...\n",
            "   Progress: 7500/27000 files validated...\n",
            "   Progress: 8000/27000 files validated...\n",
            "   Progress: 8500/27000 files validated...\n",
            "   Progress: 9000/27000 files validated...\n",
            "   Progress: 9500/27000 files validated...\n",
            "   Progress: 10000/27000 files validated...\n",
            "   Progress: 10500/27000 files validated...\n",
            "   Progress: 11000/27000 files validated...\n",
            "   Progress: 11500/27000 files validated...\n",
            "   Progress: 12000/27000 files validated...\n",
            "   Progress: 12500/27000 files validated...\n",
            "   Progress: 13000/27000 files validated...\n",
            "   Progress: 13500/27000 files validated...\n",
            "   Progress: 14000/27000 files validated...\n",
            "   Progress: 14500/27000 files validated...\n",
            "   Progress: 15000/27000 files validated...\n",
            "   Progress: 15500/27000 files validated...\n",
            "   Progress: 16000/27000 files validated...\n",
            "   Progress: 16500/27000 files validated...\n",
            "   Progress: 17000/27000 files validated...\n",
            "   Progress: 17500/27000 files validated...\n",
            "   Progress: 18000/27000 files validated...\n",
            "   Progress: 18500/27000 files validated...\n",
            "   Progress: 19000/27000 files validated...\n",
            "   Progress: 19500/27000 files validated...\n",
            "   Progress: 20000/27000 files validated...\n",
            "   Progress: 20500/27000 files validated...\n",
            "   Progress: 21000/27000 files validated...\n",
            "   Progress: 21500/27000 files validated...\n",
            "   Progress: 22000/27000 files validated...\n",
            "   Progress: 22500/27000 files validated...\n",
            "   Progress: 23000/27000 files validated...\n",
            "   Progress: 23500/27000 files validated...\n",
            "   Progress: 24000/27000 files validated...\n",
            "   Progress: 24500/27000 files validated...\n",
            "   Progress: 25000/27000 files validated...\n",
            "   Progress: 25500/27000 files validated...\n",
            "   Progress: 26000/27000 files validated...\n",
            "   Progress: 26500/27000 files validated...\n",
            "   Progress: 27000/27000 files validated...\n",
            "\n",
            "============================================================\n",
            "📊 DATASET VALIDATION\n",
            "============================================================\n",
            "🎯 Total files validated: 27000\n",
            "✅ Valid files: 27000\n",
            "❌ Corrupted files: 0\n",
            "📈 Validity rate: 100.0%\n",
            "\n",
            "📋 Category breakdown:\n",
            "   Forest: 3000/3000 valid (100.0%)\n",
            "   River: 2500/2500 valid (100.0%)\n",
            "   Highway: 2500/2500 valid (100.0%)\n",
            "   AnnualCrop: 3000/3000 valid (100.0%)\n",
            "   SeaLake: 3000/3000 valid (100.0%)\n",
            "   HerbaceousVegetation: 3000/3000 valid (100.0%)\n",
            "   Industrial: 2500/2500 valid (100.0%)\n",
            "   Residential: 3000/3000 valid (100.0%)\n",
            "   PermanentCrop: 2500/2500 valid (100.0%)\n",
            "   Pasture: 2000/2000 valid (100.0%)\n",
            "============================================================\n"
          ]
        }
      ]
    },
    {
      "cell_type": "code",
      "source": [
        "print(\"🧪 Starting sample processing (10 images per category)...\")\n",
        "sample_stats = process_dataset(max_workers=2, sample_size=10)\n",
        "display_processing_summary(sample_stats, \"SAMPLE PROCESSING\")"
      ],
      "metadata": {
        "colab": {
          "base_uri": "https://localhost:8080/"
        },
        "id": "e4MR0gn5e39M",
        "outputId": "24beb8aa-9ae6-488f-addd-d5bdae46f31e"
      },
      "execution_count": 45,
      "outputs": [
        {
          "output_type": "stream",
          "name": "stdout",
          "text": [
            "🧪 Starting sample processing (10 images per category)...\n",
            "🔄 Processing 100 images...\n",
            "   Progress: 100/100 images processed...\n",
            "\n",
            "============================================================\n",
            "📊 SAMPLE PROCESSING\n",
            "============================================================\n",
            "🎯 Total images processed: 100\n",
            "✅ Successful: 100\n",
            "❌ Failed: 0\n",
            "📈 Success rate: 100.0%\n",
            "\n",
            "📋 Category breakdown:\n",
            "   Forest: 10/10 successful\n",
            "   River: 10/10 successful\n",
            "   Highway: 10/10 successful\n",
            "   AnnualCrop: 10/10 successful\n",
            "   SeaLake: 10/10 successful\n",
            "   HerbaceousVegetation: 10/10 successful\n",
            "   Industrial: 10/10 successful\n",
            "   Residential: 10/10 successful\n",
            "   PermanentCrop: 10/10 successful\n",
            "   Pasture: 10/10 successful\n",
            "============================================================\n"
          ]
        }
      ]
    },
    {
      "cell_type": "code",
      "source": [
        "print(\"\\n📁 Checking processed data structure:\")\n",
        "count_images_in_folders(PROCESSED_DATA_PATH, '.npy')"
      ],
      "metadata": {
        "colab": {
          "base_uri": "https://localhost:8080/"
        },
        "id": "v7H8m54VfJr8",
        "outputId": "bf2616d7-11b9-4b8e-b56b-db2c1004a9ae"
      },
      "execution_count": 46,
      "outputs": [
        {
          "output_type": "stream",
          "name": "stdout",
          "text": [
            "\n",
            "📁 Checking processed data structure:\n",
            "\n",
            "📁 RGB Folder:\n",
            "  📂 Forest: 20 images\n",
            "  📂 River: 20 images\n",
            "  📂 Highway: 20 images\n",
            "  📂 AnnualCrop: 20 images\n",
            "  📂 SeaLake: 20 images\n",
            "  📂 HerbaceousVegetation: 20 images\n",
            "  📂 Industrial: 20 images\n",
            "  📂 Residential: 20 images\n",
            "  📂 PermanentCrop: 20 images\n",
            "  📂 Pasture: 20 images\n",
            "🔢 Total in RGB: 200 images\n",
            "\n",
            "📁 RGB_NIR Folder:\n",
            "  📂 Forest: 10 images\n",
            "  📂 River: 10 images\n",
            "  📂 Highway: 10 images\n",
            "  📂 AnnualCrop: 10 images\n",
            "  📂 SeaLake: 10 images\n",
            "  📂 HerbaceousVegetation: 10 images\n",
            "  📂 Industrial: 10 images\n",
            "  📂 Residential: 10 images\n",
            "  📂 PermanentCrop: 10 images\n",
            "  📂 Pasture: 10 images\n",
            "🔢 Total in RGB_NIR: 100 images\n",
            "\n",
            "📁 NDVI Folder:\n",
            "  📂 Forest: 10 images\n",
            "  📂 River: 10 images\n",
            "  📂 Highway: 10 images\n",
            "  📂 AnnualCrop: 10 images\n",
            "  📂 SeaLake: 10 images\n",
            "  📂 HerbaceousVegetation: 10 images\n",
            "  📂 Industrial: 10 images\n",
            "  📂 Residential: 10 images\n",
            "  📂 PermanentCrop: 10 images\n",
            "  📂 Pasture: 10 images\n",
            "🔢 Total in NDVI: 100 images\n"
          ]
        }
      ]
    },
    {
      "cell_type": "code",
      "source": [
        "print(\"🔄 Starting full dataset processing...\")\n",
        "processing_stats = process_dataset(max_workers=4)\n",
        "display_processing_summary(processing_stats, \"FULL DATASET PROCESSING\")"
      ],
      "metadata": {
        "colab": {
          "base_uri": "https://localhost:8080/"
        },
        "id": "0xurITMgfLBR",
        "outputId": "8af2002c-22be-4cfa-88ef-ddef632e6d6d"
      },
      "execution_count": 47,
      "outputs": [
        {
          "output_type": "stream",
          "name": "stdout",
          "text": [
            "🔄 Starting full dataset processing...\n",
            "🔄 Processing 27000 images...\n",
            "   Progress: 100/27000 images processed...\n",
            "   Progress: 200/27000 images processed...\n",
            "   Progress: 300/27000 images processed...\n",
            "   Progress: 400/27000 images processed...\n",
            "   Progress: 500/27000 images processed...\n",
            "   Progress: 600/27000 images processed...\n",
            "   Progress: 700/27000 images processed...\n",
            "   Progress: 800/27000 images processed...\n",
            "   Progress: 900/27000 images processed...\n",
            "   Progress: 1000/27000 images processed...\n",
            "   Progress: 1100/27000 images processed...\n",
            "   Progress: 1200/27000 images processed...\n",
            "   Progress: 1300/27000 images processed...\n",
            "   Progress: 1400/27000 images processed...\n",
            "   Progress: 1500/27000 images processed...\n",
            "   Progress: 1600/27000 images processed...\n",
            "   Progress: 1700/27000 images processed...\n",
            "   Progress: 1800/27000 images processed...\n",
            "   Progress: 1900/27000 images processed...\n",
            "   Progress: 2000/27000 images processed...\n",
            "   Progress: 2100/27000 images processed...\n",
            "   Progress: 2200/27000 images processed...\n",
            "   Progress: 2300/27000 images processed...\n",
            "   Progress: 2400/27000 images processed...\n",
            "   Progress: 2500/27000 images processed...\n",
            "   Progress: 2600/27000 images processed...\n",
            "   Progress: 2700/27000 images processed...\n",
            "   Progress: 2800/27000 images processed...\n",
            "   Progress: 2900/27000 images processed...\n",
            "   Progress: 3000/27000 images processed...\n",
            "   Progress: 3100/27000 images processed...\n",
            "   Progress: 3200/27000 images processed...\n",
            "   Progress: 3300/27000 images processed...\n",
            "   Progress: 3400/27000 images processed...\n",
            "   Progress: 3500/27000 images processed...\n",
            "   Progress: 3600/27000 images processed...\n",
            "   Progress: 3700/27000 images processed...\n",
            "   Progress: 3800/27000 images processed...\n",
            "   Progress: 3900/27000 images processed...\n",
            "   Progress: 4000/27000 images processed...\n",
            "   Progress: 4100/27000 images processed...\n",
            "   Progress: 4200/27000 images processed...\n",
            "   Progress: 4300/27000 images processed...\n",
            "   Progress: 4400/27000 images processed...\n",
            "   Progress: 4500/27000 images processed...\n",
            "   Progress: 4600/27000 images processed...\n",
            "   Progress: 4700/27000 images processed...\n",
            "   Progress: 4800/27000 images processed...\n",
            "   Progress: 4900/27000 images processed...\n",
            "   Progress: 5000/27000 images processed...\n",
            "   Progress: 5100/27000 images processed...\n",
            "   Progress: 5200/27000 images processed...\n",
            "   Progress: 5300/27000 images processed...\n",
            "   Progress: 5400/27000 images processed...\n",
            "   Progress: 5500/27000 images processed...\n",
            "   Progress: 5600/27000 images processed...\n",
            "   Progress: 5700/27000 images processed...\n",
            "   Progress: 5800/27000 images processed...\n",
            "   Progress: 5900/27000 images processed...\n",
            "   Progress: 6000/27000 images processed...\n",
            "   Progress: 6100/27000 images processed...\n",
            "   Progress: 6200/27000 images processed...\n",
            "   Progress: 6300/27000 images processed...\n",
            "   Progress: 6400/27000 images processed...\n",
            "   Progress: 6500/27000 images processed...\n",
            "   Progress: 6600/27000 images processed...\n",
            "   Progress: 6700/27000 images processed...\n",
            "   Progress: 6800/27000 images processed...\n",
            "   Progress: 6900/27000 images processed...\n",
            "   Progress: 7000/27000 images processed...\n",
            "   Progress: 7100/27000 images processed...\n",
            "   Progress: 7200/27000 images processed...\n",
            "   Progress: 7300/27000 images processed...\n",
            "   Progress: 7400/27000 images processed...\n",
            "   Progress: 7500/27000 images processed...\n",
            "   Progress: 7600/27000 images processed...\n",
            "   Progress: 7700/27000 images processed...\n",
            "   Progress: 7800/27000 images processed...\n",
            "   Progress: 7900/27000 images processed...\n",
            "   Progress: 8000/27000 images processed...\n",
            "   Progress: 8100/27000 images processed...\n",
            "   Progress: 8200/27000 images processed...\n",
            "   Progress: 8300/27000 images processed...\n",
            "   Progress: 8400/27000 images processed...\n",
            "   Progress: 8500/27000 images processed...\n",
            "   Progress: 8600/27000 images processed...\n",
            "   Progress: 8700/27000 images processed...\n",
            "   Progress: 8800/27000 images processed...\n",
            "   Progress: 8900/27000 images processed...\n",
            "   Progress: 9000/27000 images processed...\n",
            "   Progress: 9100/27000 images processed...\n",
            "   Progress: 9200/27000 images processed...\n",
            "   Progress: 9300/27000 images processed...\n",
            "   Progress: 9400/27000 images processed...\n",
            "   Progress: 9500/27000 images processed...\n",
            "   Progress: 9600/27000 images processed...\n",
            "   Progress: 9700/27000 images processed...\n",
            "   Progress: 9800/27000 images processed...\n",
            "   Progress: 9900/27000 images processed...\n",
            "   Progress: 10000/27000 images processed...\n",
            "   Progress: 10100/27000 images processed...\n",
            "   Progress: 10200/27000 images processed...\n",
            "   Progress: 10300/27000 images processed...\n",
            "   Progress: 10400/27000 images processed...\n",
            "   Progress: 10500/27000 images processed...\n",
            "   Progress: 10600/27000 images processed...\n",
            "   Progress: 10700/27000 images processed...\n",
            "   Progress: 10800/27000 images processed...\n",
            "   Progress: 10900/27000 images processed...\n",
            "   Progress: 11000/27000 images processed...\n",
            "   Progress: 11100/27000 images processed...\n",
            "   Progress: 11200/27000 images processed...\n",
            "   Progress: 11300/27000 images processed...\n",
            "   Progress: 11400/27000 images processed...\n",
            "   Progress: 11500/27000 images processed...\n",
            "   Progress: 11600/27000 images processed...\n",
            "   Progress: 11700/27000 images processed...\n",
            "   Progress: 11800/27000 images processed...\n",
            "   Progress: 11900/27000 images processed...\n",
            "   Progress: 12000/27000 images processed...\n",
            "   Progress: 12100/27000 images processed...\n",
            "   Progress: 12200/27000 images processed...\n",
            "   Progress: 12300/27000 images processed...\n",
            "   Progress: 12400/27000 images processed...\n",
            "   Progress: 12500/27000 images processed...\n",
            "   Progress: 12600/27000 images processed...\n",
            "   Progress: 12700/27000 images processed...\n",
            "   Progress: 12800/27000 images processed...\n",
            "   Progress: 12900/27000 images processed...\n",
            "   Progress: 13000/27000 images processed...\n",
            "   Progress: 13100/27000 images processed...\n",
            "   Progress: 13200/27000 images processed...\n",
            "   Progress: 13300/27000 images processed...\n",
            "   Progress: 13400/27000 images processed...\n",
            "   Progress: 13500/27000 images processed...\n",
            "   Progress: 13600/27000 images processed...\n",
            "   Progress: 13700/27000 images processed...\n",
            "   Progress: 13800/27000 images processed...\n",
            "   Progress: 13900/27000 images processed...\n",
            "   Progress: 14000/27000 images processed...\n",
            "   Progress: 14100/27000 images processed...\n",
            "   Progress: 14200/27000 images processed...\n",
            "   Progress: 14300/27000 images processed...\n",
            "   Progress: 14400/27000 images processed...\n",
            "   Progress: 14500/27000 images processed...\n",
            "   Progress: 14600/27000 images processed...\n",
            "   Progress: 14700/27000 images processed...\n",
            "   Progress: 14800/27000 images processed...\n",
            "   Progress: 14900/27000 images processed...\n",
            "   Progress: 15000/27000 images processed...\n",
            "   Progress: 15100/27000 images processed...\n",
            "   Progress: 15200/27000 images processed...\n",
            "   Progress: 15300/27000 images processed...\n",
            "   Progress: 15400/27000 images processed...\n",
            "   Progress: 15500/27000 images processed...\n",
            "   Progress: 15600/27000 images processed...\n",
            "   Progress: 15700/27000 images processed...\n",
            "   Progress: 15800/27000 images processed...\n",
            "   Progress: 15900/27000 images processed...\n",
            "   Progress: 16000/27000 images processed...\n",
            "   Progress: 16100/27000 images processed...\n",
            "   Progress: 16200/27000 images processed...\n",
            "   Progress: 16300/27000 images processed...\n",
            "   Progress: 16400/27000 images processed...\n",
            "   Progress: 16500/27000 images processed...\n",
            "   Progress: 16600/27000 images processed...\n",
            "   Progress: 16700/27000 images processed...\n",
            "   Progress: 16800/27000 images processed...\n",
            "   Progress: 16900/27000 images processed...\n",
            "   Progress: 17000/27000 images processed...\n",
            "   Progress: 17100/27000 images processed...\n",
            "   Progress: 17200/27000 images processed...\n",
            "   Progress: 17300/27000 images processed...\n",
            "   Progress: 17400/27000 images processed...\n",
            "   Progress: 17500/27000 images processed...\n",
            "   Progress: 17600/27000 images processed...\n",
            "   Progress: 17700/27000 images processed...\n",
            "   Progress: 17800/27000 images processed...\n",
            "   Progress: 17900/27000 images processed...\n",
            "   Progress: 18000/27000 images processed...\n",
            "   Progress: 18100/27000 images processed...\n",
            "   Progress: 18200/27000 images processed...\n",
            "   Progress: 18300/27000 images processed...\n",
            "   Progress: 18400/27000 images processed...\n",
            "   Progress: 18500/27000 images processed...\n",
            "   Progress: 18600/27000 images processed...\n",
            "   Progress: 18700/27000 images processed...\n",
            "   Progress: 18800/27000 images processed...\n",
            "   Progress: 18900/27000 images processed...\n",
            "   Progress: 19000/27000 images processed...\n",
            "   Progress: 19100/27000 images processed...\n",
            "   Progress: 19200/27000 images processed...\n",
            "   Progress: 19300/27000 images processed...\n",
            "   Progress: 19400/27000 images processed...\n",
            "   Progress: 19500/27000 images processed...\n",
            "   Progress: 19600/27000 images processed...\n",
            "   Progress: 19700/27000 images processed...\n",
            "   Progress: 19800/27000 images processed...\n",
            "   Progress: 19900/27000 images processed...\n",
            "   Progress: 20000/27000 images processed...\n",
            "   Progress: 20100/27000 images processed...\n",
            "   Progress: 20200/27000 images processed...\n",
            "   Progress: 20300/27000 images processed...\n",
            "   Progress: 20400/27000 images processed...\n",
            "   Progress: 20500/27000 images processed...\n",
            "   Progress: 20600/27000 images processed...\n",
            "   Progress: 20700/27000 images processed...\n",
            "   Progress: 20800/27000 images processed...\n",
            "   Progress: 20900/27000 images processed...\n",
            "   Progress: 21000/27000 images processed...\n",
            "   Progress: 21100/27000 images processed...\n",
            "   Progress: 21200/27000 images processed...\n",
            "   Progress: 21300/27000 images processed...\n",
            "   Progress: 21400/27000 images processed...\n",
            "   Progress: 21500/27000 images processed...\n",
            "   Progress: 21600/27000 images processed...\n",
            "   Progress: 21700/27000 images processed...\n",
            "   Progress: 21800/27000 images processed...\n",
            "   Progress: 21900/27000 images processed...\n",
            "   Progress: 22000/27000 images processed...\n",
            "   Progress: 22100/27000 images processed...\n",
            "   Progress: 22200/27000 images processed...\n",
            "   Progress: 22300/27000 images processed...\n",
            "   Progress: 22400/27000 images processed...\n",
            "   Progress: 22500/27000 images processed...\n",
            "   Progress: 22600/27000 images processed...\n",
            "   Progress: 22700/27000 images processed...\n",
            "   Progress: 22800/27000 images processed...\n",
            "   Progress: 22900/27000 images processed...\n",
            "   Progress: 23000/27000 images processed...\n",
            "   Progress: 23100/27000 images processed...\n",
            "   Progress: 23200/27000 images processed...\n",
            "   Progress: 23300/27000 images processed...\n",
            "   Progress: 23400/27000 images processed...\n",
            "   Progress: 23500/27000 images processed...\n",
            "   Progress: 23600/27000 images processed...\n",
            "   Progress: 23700/27000 images processed...\n",
            "   Progress: 23800/27000 images processed...\n",
            "   Progress: 23900/27000 images processed...\n",
            "   Progress: 24000/27000 images processed...\n",
            "   Progress: 24100/27000 images processed...\n",
            "   Progress: 24200/27000 images processed...\n",
            "   Progress: 24300/27000 images processed...\n",
            "   Progress: 24400/27000 images processed...\n",
            "   Progress: 24500/27000 images processed...\n",
            "   Progress: 24600/27000 images processed...\n",
            "   Progress: 24700/27000 images processed...\n",
            "   Progress: 24800/27000 images processed...\n",
            "   Progress: 24900/27000 images processed...\n",
            "   Progress: 25000/27000 images processed...\n",
            "   Progress: 25100/27000 images processed...\n",
            "   Progress: 25200/27000 images processed...\n",
            "   Progress: 25300/27000 images processed...\n",
            "   Progress: 25400/27000 images processed...\n",
            "   Progress: 25500/27000 images processed...\n",
            "   Progress: 25600/27000 images processed...\n",
            "   Progress: 25700/27000 images processed...\n",
            "   Progress: 25800/27000 images processed...\n",
            "   Progress: 25900/27000 images processed...\n",
            "   Progress: 26000/27000 images processed...\n",
            "   Progress: 26100/27000 images processed...\n",
            "   Progress: 26200/27000 images processed...\n",
            "   Progress: 26300/27000 images processed...\n",
            "   Progress: 26400/27000 images processed...\n",
            "   Progress: 26500/27000 images processed...\n",
            "   Progress: 26600/27000 images processed...\n",
            "   Progress: 26700/27000 images processed...\n",
            "   Progress: 26800/27000 images processed...\n",
            "   Progress: 26900/27000 images processed...\n",
            "   Progress: 27000/27000 images processed...\n",
            "\n",
            "============================================================\n",
            "📊 FULL DATASET PROCESSING\n",
            "============================================================\n",
            "🎯 Total images processed: 27000\n",
            "✅ Successful: 27000\n",
            "❌ Failed: 0\n",
            "📈 Success rate: 100.0%\n",
            "\n",
            "📋 Category breakdown:\n",
            "   Forest: 3000/3000 successful\n",
            "   River: 2500/2500 successful\n",
            "   Highway: 2500/2500 successful\n",
            "   AnnualCrop: 3000/3000 successful\n",
            "   SeaLake: 3000/3000 successful\n",
            "   HerbaceousVegetation: 3000/3000 successful\n",
            "   Industrial: 2500/2500 successful\n",
            "   Residential: 3000/3000 successful\n",
            "   PermanentCrop: 2500/2500 successful\n",
            "   Pasture: 2000/2000 successful\n",
            "============================================================\n"
          ]
        }
      ]
    },
    {
      "cell_type": "code",
      "source": [
        "print(\"\\n📁 Final processed data structure:\")\n",
        "count_images_in_folders(PROCESSED_DATA_PATH, '.npy')"
      ],
      "metadata": {
        "colab": {
          "base_uri": "https://localhost:8080/"
        },
        "id": "iXP8n94ofP0P",
        "outputId": "44fed312-482f-43d6-8b49-6dabc0fc74fe"
      },
      "execution_count": 48,
      "outputs": [
        {
          "output_type": "stream",
          "name": "stdout",
          "text": [
            "\n",
            "📁 Final processed data structure:\n",
            "\n",
            "📁 RGB Folder:\n",
            "  📂 Forest: 6000 images\n",
            "  📂 River: 5000 images\n",
            "  📂 Highway: 5000 images\n",
            "  📂 AnnualCrop: 6000 images\n",
            "  📂 SeaLake: 6000 images\n",
            "  📂 HerbaceousVegetation: 6000 images\n",
            "  📂 Industrial: 5000 images\n",
            "  📂 Residential: 6000 images\n",
            "  📂 PermanentCrop: 5000 images\n",
            "  📂 Pasture: 4000 images\n",
            "🔢 Total in RGB: 54000 images\n",
            "\n",
            "📁 RGB_NIR Folder:\n",
            "  📂 Forest: 3000 images\n",
            "  📂 River: 2500 images\n",
            "  📂 Highway: 2500 images\n",
            "  📂 AnnualCrop: 3000 images\n",
            "  📂 SeaLake: 3000 images\n",
            "  📂 HerbaceousVegetation: 3000 images\n",
            "  📂 Industrial: 2500 images\n",
            "  📂 Residential: 3000 images\n",
            "  📂 PermanentCrop: 2500 images\n",
            "  📂 Pasture: 2000 images\n",
            "🔢 Total in RGB_NIR: 27000 images\n",
            "\n",
            "📁 NDVI Folder:\n",
            "  📂 Forest: 3000 images\n",
            "  📂 River: 2500 images\n",
            "  📂 Highway: 2500 images\n",
            "  📂 AnnualCrop: 3000 images\n",
            "  📂 SeaLake: 3000 images\n",
            "  📂 HerbaceousVegetation: 3000 images\n",
            "  📂 Industrial: 2500 images\n",
            "  📂 Residential: 3000 images\n",
            "  📂 PermanentCrop: 2500 images\n",
            "  📂 Pasture: 2000 images\n",
            "🔢 Total in NDVI: 27000 images\n"
          ]
        }
      ]
    },
    {
      "cell_type": "code",
      "source": [
        "def visualize_processed_samples(category='Forest', num_samples=3):\n",
        "    \"\"\"Visualize processed samples from a category\"\"\"\n",
        "    fig, axes = plt.subplots(num_samples, 3, figsize=(15, 5*num_samples))\n",
        "    if num_samples == 1:\n",
        "        axes = axes.reshape(1, -1)\n",
        "\n",
        "    category_path_rgb = os.path.join(PROCESSED_DATA_PATH, 'RGB', category)\n",
        "    category_path_ndvi = os.path.join(PROCESSED_DATA_PATH, 'NDVI', category)\n",
        "\n",
        "    if os.path.exists(category_path_rgb):\n",
        "        files = [f for f in os.listdir(category_path_rgb) if f.endswith('.npy') and not f.endswith('_aug.npy')]\n",
        "\n",
        "        for i in range(min(num_samples, len(files))):\n",
        "            # Load RGB\n",
        "            rgb_file = files[i]\n",
        "            rgb_img = np.load(os.path.join(category_path_rgb, rgb_file))\n",
        "\n",
        "            # Load RGB+NIR\n",
        "            rgb_nir_file = rgb_file\n",
        "            rgb_nir_path = os.path.join(PROCESSED_DATA_PATH, 'RGB_NIR', category, rgb_nir_file)\n",
        "            if os.path.exists(rgb_nir_path):\n",
        "                rgb_nir_img = np.load(rgb_nir_path)\n",
        "            else:\n",
        "                rgb_nir_img = np.zeros_like(rgb_img)\n",
        "\n",
        "            # Load NDVI\n",
        "            ndvi_file = rgb_file\n",
        "            ndvi_path = os.path.join(category_path_ndvi, ndvi_file)\n",
        "            if os.path.exists(ndvi_path):\n",
        "                ndvi_img = np.load(ndvi_path)\n",
        "            else:\n",
        "                ndvi_img = np.zeros((rgb_img.shape[0], rgb_img.shape[1]))\n",
        "\n",
        "            # Plot RGB\n",
        "            axes[i, 0].imshow(rgb_img)\n",
        "            axes[i, 0].set_title(f'RGB - {category} {i+1}')\n",
        "            axes[i, 0].axis('off')\n",
        "\n",
        "            # Plot NIR (if available)\n",
        "            if rgb_nir_img.shape[2] > 3:\n",
        "                axes[i, 1].imshow(rgb_nir_img[:,:,3], cmap='RdYlGn')\n",
        "                axes[i, 1].set_title(f'NIR Band - {category} {i+1}')\n",
        "            else:\n",
        "                axes[i, 1].text(0.5, 0.5, 'NIR not available', ha='center', va='center')\n",
        "                axes[i, 1].set_title(f'NIR Band - {category} {i+1}')\n",
        "            axes[i, 1].axis('off')\n",
        "\n",
        "            # Plot NDVI\n",
        "            im = axes[i, 2].imshow(ndvi_img, cmap='RdYlGn', vmin=-1, vmax=1)\n",
        "            axes[i, 2].set_title(f'NDVI - {category} {i+1}')\n",
        "            axes[i, 2].axis('off')\n",
        "\n",
        "            # Add colorbar for NDVI\n",
        "            plt.colorbar(im, ax=axes[i, 2], fraction=0.046)\n",
        "\n",
        "    plt.tight_layout()\n",
        "    plt.show()"
      ],
      "metadata": {
        "id": "ZbcbT1MefQM6"
      },
      "execution_count": 49,
      "outputs": []
    },
    {
      "cell_type": "code",
      "source": [
        "# Visualize samples\n",
        "visualize_processed_samples('Forest', 2)"
      ],
      "metadata": {
        "colab": {
          "base_uri": "https://localhost:8080/",
          "height": 784
        },
        "id": "U4GzWQ6jfYlo",
        "outputId": "3522a23e-bf6a-436b-bca1-9f8eb6ed2940"
      },
      "execution_count": 50,
      "outputs": [
        {
          "output_type": "display_data",
          "data": {
            "text/plain": [
              "<Figure size 1500x1000 with 8 Axes>"
            ],
            "image/png": "[encoded data removed]"
          },
          "metadata": {}
        }
      ]
    },
    {
      "cell_type": "markdown",
      "source": [
        "### MORE INSIGHTS"
      ],
      "metadata": {
        "id": "VB4LON0J5fLw"
      }
    },
    {
      "cell_type": "code",
      "source": [
        "def create_comprehensive_eda_visualizations():\n",
        "    \"\"\"Create comprehensive visualizations for EDA report\"\"\"\n",
        "\n",
        "    # 1. Dataset Distribution Visualization\n",
        "    def plot_dataset_distribution():\n",
        "        \"\"\"Plot class distribution across the dataset\"\"\"\n",
        "        categories = []\n",
        "        counts = []\n",
        "\n",
        "        for category in LAND_TYPES:\n",
        "            category_path = os.path.join(EUROSAT_PATH, category)\n",
        "            if os.path.exists(category_path):\n",
        "                count = len([f for f in os.listdir(category_path) if f.endswith('.tif')])\n",
        "                categories.append(category)\n",
        "                counts.append(count)\n",
        "\n",
        "        plt.figure(figsize=(12, 6))\n",
        "        bars = plt.bar(categories, counts, color=plt.cm.tab10(np.linspace(0, 1, len(categories))))\n",
        "        plt.title('EuroSAT Dataset - Class Distribution', fontsize=16, fontweight='bold')\n",
        "        plt.xlabel('Land Type Categories', fontsize=12)\n",
        "        plt.ylabel('Number of Images', fontsize=12)\n",
        "        plt.xticks(rotation=45, ha='right')\n",
        "\n",
        "        # Add value labels on bars\n",
        "        for bar, count in zip(bars, counts):\n",
        "            plt.text(bar.get_x() + bar.get_width()/2, bar.get_height() + 20,\n",
        "                    str(count), ha='center', va='bottom', fontweight='bold')\n",
        "\n",
        "        plt.tight_layout()\n",
        "        plt.show()\n",
        "\n",
        "        # Print statistics\n",
        "        print(f\"📊 Dataset Statistics:\")\n",
        "        print(f\"   Total Categories: {len(categories)}\")\n",
        "        print(f\"   Total Images: {sum(counts)}\")\n",
        "        print(f\"   Average per Category: {np.mean(counts):.0f}\")\n",
        "        print(f\"   Min: {min(counts)}, Max: {max(counts)}\")\n",
        "\n",
        "    # 2. Spectral Band Analysis\n",
        "    def plot_spectral_signatures():\n",
        "        \"\"\"Plot average spectral signatures for each land type\"\"\"\n",
        "        spectral_data = {}\n",
        "\n",
        "        # Sample a few images from each category\n",
        "        for category in LAND_TYPES[:5]:  # Limit to 5 categories for clarity\n",
        "            category_path = os.path.join(EUROSAT_PATH, category)\n",
        "            if os.path.exists(category_path):\n",
        "                files = [f for f in os.listdir(category_path) if f.endswith('.tif')]\n",
        "\n",
        "                if files:\n",
        "                    # Load first image as sample\n",
        "                    sample_path = os.path.join(category_path, files[0])\n",
        "                    try:\n",
        "                        with rasterio.open(sample_path) as src:\n",
        "                            # Read all bands and calculate mean\n",
        "                            spectral_mean = []\n",
        "                            for band in range(1, min(14, src.count + 1)):\n",
        "                                band_data = src.read(band)\n",
        "                                spectral_mean.append(np.mean(band_data))\n",
        "                            spectral_data[category] = spectral_mean\n",
        "                    except Exception as e:\n",
        "                        print(f\"Error loading {category}: {e}\")\n",
        "\n",
        "        # Plot spectral signatures\n",
        "        plt.figure(figsize=(14, 8))\n",
        "        colors = plt.cm.tab10(np.linspace(0, 1, len(spectral_data)))\n",
        "\n",
        "        for i, (category, signature) in enumerate(spectral_data.items()):\n",
        "            bands = range(1, len(signature) + 1)\n",
        "            plt.plot(bands, signature, 'o-', color=colors[i],\n",
        "                    label=category, linewidth=2, markersize=6)\n",
        "\n",
        "        plt.title('Average Spectral Signatures by Land Type', fontsize=16, fontweight='bold')\n",
        "        plt.xlabel('Spectral Band', fontsize=12)\n",
        "        plt.ylabel('Average Reflectance', fontsize=12)\n",
        "        plt.legend(bbox_to_anchor=(1.05, 1), loc='upper left')\n",
        "        plt.grid(True, alpha=0.3)\n",
        "\n",
        "        # Add band labels\n",
        "        band_names = [f\"B{i:02d}\" for i in range(1, 14)]\n",
        "        plt.xticks(range(1, 14), band_names, rotation=45)\n",
        "\n",
        "        plt.tight_layout()\n",
        "        plt.show()\n",
        "\n",
        "    # 3. NDVI Distribution Analysis\n",
        "    def plot_ndvi_distributions():\n",
        "        \"\"\"Plot NDVI value distributions for different land types\"\"\"\n",
        "        ndvi_data = {}\n",
        "\n",
        "        for category in LAND_TYPES:\n",
        "            ndvi_path = os.path.join(PROCESSED_DATA_PATH, 'NDVI', category)\n",
        "            if os.path.exists(ndvi_path):\n",
        "                files = [f for f in os.listdir(ndvi_path) if f.endswith('.npy')]\n",
        "\n",
        "                ndvi_values = []\n",
        "                for file in files[:10]:  # Sample 10 files per category\n",
        "                    try:\n",
        "                        ndvi_img = np.load(os.path.join(ndvi_path, file))\n",
        "                        ndvi_values.extend(ndvi_img.flatten())\n",
        "                    except Exception as e:\n",
        "                        continue\n",
        "\n",
        "                if ndvi_values:\n",
        "                    ndvi_data[category] = ndvi_values\n",
        "\n",
        "        # Create subplot for histograms\n",
        "        fig, axes = plt.subplots(2, 5, figsize=(20, 10))\n",
        "        axes = axes.flatten()\n",
        "\n",
        "        for i, (category, values) in enumerate(ndvi_data.items()):\n",
        "            if i < len(axes):\n",
        "                axes[i].hist(values, bins=50, alpha=0.7, density=True)\n",
        "                axes[i].set_title(f'{category}\\nMean NDVI: {np.mean(values):.3f}', fontweight='bold')\n",
        "                axes[i].set_xlabel('NDVI Value')\n",
        "                axes[i].set_ylabel('Density')\n",
        "                axes[i].grid(True, alpha=0.3)\n",
        "                axes[i].axvline(np.mean(values), color='red', linestyle='--', linewidth=2)\n",
        "\n",
        "        # Hide unused subplots\n",
        "        for j in range(len(ndvi_data), len(axes)):\n",
        "            axes[j].set_visible(False)\n",
        "\n",
        "        plt.suptitle('NDVI Value Distributions by Land Type', fontsize=16, fontweight='bold')\n",
        "        plt.tight_layout()\n",
        "        plt.show()\n",
        "\n",
        "        # Print NDVI statistics\n",
        "        print(\"\\n📊 NDVI Statistics by Land Type:\")\n",
        "        for category, values in ndvi_data.items():\n",
        "            print(f\"   {category:20}: Mean={np.mean(values):.3f}, Std={np.std(values):.3f}\")\n",
        "\n",
        "    # 4. Sample Images Grid\n",
        "    def plot_sample_images_grid():\n",
        "        \"\"\"Create a comprehensive grid of sample images\"\"\"\n",
        "        categories = LAND_TYPES[:6]  # Show 6 categories\n",
        "\n",
        "        fig, axes = plt.subplots(6, 4, figsize=(16, 24))\n",
        "\n",
        "        for i, category in enumerate(categories):\n",
        "            # RGB\n",
        "            rgb_path = os.path.join(PROCESSED_DATA_PATH, 'RGB', category)\n",
        "            if os.path.exists(rgb_path):\n",
        "                files = [f for f in os.listdir(rgb_path) if f.endswith('.npy') and not f.endswith('_aug.npy')]\n",
        "                if files:\n",
        "                    rgb_img = np.load(os.path.join(rgb_path, files[0]))\n",
        "                    axes[i, 0].imshow(rgb_img)\n",
        "                    axes[i, 0].set_title(f'{category} - RGB')\n",
        "                    axes[i, 0].axis('off')\n",
        "\n",
        "            # RGB+NIR (show NIR band)\n",
        "            rgb_nir_path = os.path.join(PROCESSED_DATA_PATH, 'RGB_NIR', category)\n",
        "            if os.path.exists(rgb_nir_path):\n",
        "                files = [f for f in os.listdir(rgb_nir_path) if f.endswith('.npy')]\n",
        "                if files:\n",
        "                    rgb_nir_img = np.load(os.path.join(rgb_nir_path, files[0]))\n",
        "                    if rgb_nir_img.shape[2] > 3:\n",
        "                        axes[i, 1].imshow(rgb_nir_img[:,:,3], cmap='RdYlGn')\n",
        "                        axes[i, 1].set_title(f'{category} - NIR Band')\n",
        "                    axes[i, 1].axis('off')\n",
        "\n",
        "            # NDVI\n",
        "            ndvi_path = os.path.join(PROCESSED_DATA_PATH, 'NDVI', category)\n",
        "            if os.path.exists(ndvi_path):\n",
        "                files = [f for f in os.listdir(ndvi_path) if f.endswith('.npy')]\n",
        "                if files:\n",
        "                    ndvi_img = np.load(os.path.join(ndvi_path, files[0]))\n",
        "                    im = axes[i, 2].imshow(ndvi_img, cmap='RdYlGn', vmin=-1, vmax=1)\n",
        "                    axes[i, 2].set_title(f'{category} - NDVI')\n",
        "                    axes[i, 2].axis('off')\n",
        "\n",
        "            # Augmented RGB\n",
        "            if os.path.exists(rgb_path):\n",
        "                aug_files = [f for f in os.listdir(rgb_path) if f.endswith('_aug.npy')]\n",
        "                if aug_files:\n",
        "                    aug_img = np.load(os.path.join(rgb_path, aug_files[0]))\n",
        "                    axes[i, 3].imshow(aug_img)\n",
        "                    axes[i, 3].set_title(f'{category} - Augmented')\n",
        "                    axes[i, 3].axis('off')\n",
        "\n",
        "        plt.suptitle('Sample Images Across Processing Types', fontsize=16, fontweight='bold')\n",
        "        plt.tight_layout()\n",
        "        plt.show()\n",
        "\n",
        "    # Execute all visualizations\n",
        "    print(\"🎨 Creating comprehensive EDA visualizations...\")\n",
        "    plot_dataset_distribution()\n",
        "    plot_spectral_signatures()\n",
        "    plot_ndvi_distributions()\n",
        "    plot_sample_images_grid()\n",
        "    print(\"✅ All visualizations created!\")"
      ],
      "metadata": {
        "id": "McvKAtpC5i2T"
      },
      "execution_count": 51,
      "outputs": []
    },
    {
      "cell_type": "code",
      "source": [
        "def create_data_splits():\n",
        "    \"\"\"Create train/validation/test splits and organize data accordingly\"\"\"\n",
        "\n",
        "    # Create split directories\n",
        "    split_base_path = os.path.join(PROCESSED_DATA_PATH, \"splits\")\n",
        "    os.makedirs(split_base_path, exist_ok=True)\n",
        "\n",
        "    for split in ['train', 'validation', 'test']:\n",
        "        for data_type in DATA_TYPES:\n",
        "            split_path = os.path.join(split_base_path, split, data_type)\n",
        "            os.makedirs(split_path, exist_ok=True)\n",
        "\n",
        "            for category in LAND_TYPES:\n",
        "                category_path = os.path.join(split_path, category)\n",
        "                os.makedirs(category_path, exist_ok=True)\n",
        "\n",
        "    print(\"✅ Split directories created\")\n",
        "\n",
        "    # Create splits for each category\n",
        "    split_stats = {\n",
        "        'train': {'total': 0, 'by_category': {}},\n",
        "        'validation': {'total': 0, 'by_category': {}},\n",
        "        'test': {'total': 0, 'by_category': {}}\n",
        "    }\n",
        "\n",
        "    for category in LAND_TYPES:\n",
        "        print(f\"🔄 Processing splits for {category}...\")\n",
        "\n",
        "        # Get list of processed files (use RGB as reference)\n",
        "        rgb_category_path = os.path.join(PROCESSED_DATA_PATH, 'RGB', category)\n",
        "        if not os.path.exists(rgb_category_path):\n",
        "            continue\n",
        "\n",
        "        # Get non-augmented files\n",
        "        files = [f for f in os.listdir(rgb_category_path)\n",
        "                if f.endswith('.npy') and not f.endswith('_aug.npy')]\n",
        "\n",
        "        if not files:\n",
        "            continue\n",
        "\n",
        "        # Create stratified split\n",
        "        from sklearn.model_selection import train_test_split\n",
        "\n",
        "        # First split: separate test set\n",
        "        train_val_files, test_files = train_test_split(\n",
        "            files, test_size=TEST_SIZE, random_state=RANDOM_STATE\n",
        "        )\n",
        "\n",
        "        # Second split: separate train and validation\n",
        "        train_files, val_files = train_test_split(\n",
        "            train_val_files, test_size=VAL_SIZE, random_state=RANDOM_STATE\n",
        "        )\n",
        "\n",
        "        # Update statistics\n",
        "        split_stats['train']['by_category'][category] = len(train_files)\n",
        "        split_stats['validation']['by_category'][category] = len(val_files)\n",
        "        split_stats['test']['by_category'][category] = len(test_files)\n",
        "        split_stats['train']['total'] += len(train_files)\n",
        "        split_stats['validation']['total'] += len(val_files)\n",
        "        split_stats['test']['total'] += len(test_files)\n",
        "\n",
        "        # Copy files to appropriate split directories\n",
        "        file_mappings = {\n",
        "            'train': train_files,\n",
        "            'validation': val_files,\n",
        "            'test': test_files\n",
        "        }\n",
        "\n",
        "        for split_name, file_list in file_mappings.items():\n",
        "            for filename in file_list:\n",
        "                base_name = filename  # .npy filename\n",
        "\n",
        "                # Copy each data type\n",
        "                for data_type in DATA_TYPES:\n",
        "                    src_path = os.path.join(PROCESSED_DATA_PATH, data_type, category, base_name)\n",
        "                    dst_path = os.path.join(split_base_path, split_name, data_type, category, base_name)\n",
        "\n",
        "                    if os.path.exists(src_path):\n",
        "                        import shutil\n",
        "                        shutil.copy2(src_path, dst_path)\n",
        "\n",
        "                # Also copy augmented version if it exists (only for training)\n",
        "                if split_name == 'train':\n",
        "                    aug_filename = base_name.replace('.npy', '_aug.npy')\n",
        "                    rgb_aug_src = os.path.join(PROCESSED_DATA_PATH, 'RGB', category, aug_filename)\n",
        "                    rgb_aug_dst = os.path.join(split_base_path, 'train', 'RGB', category, aug_filename)\n",
        "\n",
        "                    if os.path.exists(rgb_aug_src):\n",
        "                        shutil.copy2(rgb_aug_src, rgb_aug_dst)\n",
        "                        split_stats['train']['by_category'][category] += 1\n",
        "                        split_stats['train']['total'] += 1\n",
        "\n",
        "    return split_stats\n",
        "\n",
        "def display_split_summary(split_stats):\n",
        "    \"\"\"Display detailed summary of data splits\"\"\"\n",
        "    print(\"\\n\" + \"=\"*70)\n",
        "    print(\"📊 DATA SPLIT SUMMARY\")\n",
        "    print(\"=\"*70)\n",
        "\n",
        "    for split_name, stats in split_stats.items():\n",
        "        print(f\"\\n🎯 {split_name.upper()} SET:\")\n",
        "        print(f\"   Total samples: {stats['total']:,}\")\n",
        "        print(f\"   Categories breakdown:\")\n",
        "\n",
        "        for category, count in stats['by_category'].items():\n",
        "            percentage = (count / stats['total']) * 100 if stats['total'] > 0 else 0\n",
        "            print(f\"      {category:20}: {count:5,} samples ({percentage:5.1f}%)\")\n",
        "\n",
        "    # Calculate overall statistics\n",
        "    total_samples = sum(stats['total'] for stats in split_stats.values())\n",
        "    print(f\"\\n📈 OVERALL STATISTICS:\")\n",
        "    print(f\"   Total processed samples: {total_samples:,}\")\n",
        "\n",
        "    for split_name, stats in split_stats.items():\n",
        "        percentage = (stats['total'] / total_samples) * 100 if total_samples > 0 else 0\n",
        "        print(f\"   {split_name.capitalize():12}: {stats['total']:6,} ({percentage:5.1f}%)\")\n",
        "\n",
        "    print(\"=\"*70)\n",
        "\n",
        "def create_metadata_file():\n",
        "    \"\"\"Create metadata file with dataset information\"\"\"\n",
        "    metadata = {\n",
        "        'dataset_info': {\n",
        "            'name': 'EuroSAT Multispectral Dataset',\n",
        "            'source': 'https://zenodo.org/records/7711810',\n",
        "            'sensor': 'Sentinel-2',\n",
        "            'categories': LAND_TYPES,\n",
        "            'spectral_bands': len(BAND_LABELS),\n",
        "            'image_size': IMAGE_SIZE,\n",
        "            'processing_date': pd.Timestamp.now().isoformat()\n",
        "        },\n",
        "        'processing_info': {\n",
        "            'bands_used': BANDS,\n",
        "            'augmentation_applied': True,\n",
        "            'normalization': 'min-max to [0,1]',\n",
        "            'feature_engineering': ['NDVI calculation'],\n",
        "            'data_types_generated': DATA_TYPES\n",
        "        },\n",
        "        'split_configuration': {\n",
        "            'test_size': TEST_SIZE,\n",
        "            'validation_size': VAL_SIZE,\n",
        "            'random_state': RANDOM_STATE,\n",
        "            'stratified': True\n",
        "        }\n",
        "    }\n",
        "\n",
        "    # Save metadata\n",
        "    metadata_path = os.path.join(PROCESSED_DATA_PATH, 'dataset_metadata.json')\n",
        "    import json\n",
        "    with open(metadata_path, 'w') as f:\n",
        "        json.dump(metadata, f, indent=4)\n",
        "\n",
        "    print(f\"✅ Metadata saved to: {metadata_path}\")\n",
        "    return metadata\n",
        "\n",
        "# Execute data splitting\n",
        "print(\"🔄 Creating data splits...\")\n",
        "split_statistics = create_data_splits()\n",
        "display_split_summary(split_statistics)\n",
        "\n",
        "print(\"\\n🔄 Creating metadata file...\")\n",
        "dataset_metadata = create_metadata_file()\n",
        "\n",
        "print(\"\\n📁 Final directory structure:\")\n",
        "count_images_in_folders(os.path.join(PROCESSED_DATA_PATH, \"splits\"), '.npy')"
      ],
      "metadata": {
        "id": "F-7DbkHM6Zzr"
      },
      "execution_count": null,
      "outputs": []
    },
    {
      "cell_type": "code",
      "source": [
        "# Function to create data splits visualization\n",
        "def visualize_data_splits():\n",
        "    \"\"\"Visualize the recommended data split strategy\"\"\"\n",
        "    total_samples = 27000  # Approximate total\n",
        "\n",
        "    # Calculate splits\n",
        "    test_samples = int(total_samples * TEST_SIZE)\n",
        "    remaining = total_samples - test_samples\n",
        "    val_samples = int(remaining * VAL_SIZE)\n",
        "    train_samples = remaining - val_samples\n",
        "\n",
        "    # Create pie chart\n",
        "    sizes = [train_samples, val_samples, test_samples]\n",
        "    labels = [f'Training\\n({train_samples:,})', f'Validation\\n({val_samples:,})', f'Testing\\n({test_samples:,})']\n",
        "    colors = ['#ff9999', '#66b3ff', '#99ff99']\n",
        "\n",
        "    plt.figure(figsize=(10, 8))\n",
        "    wedges, texts, autotexts = plt.pie(sizes, labels=labels, colors=colors, autopct='%1.1f%%',\n",
        "                                      startangle=90, textprops={'fontsize': 12})\n",
        "\n",
        "    plt.title('Recommended Data Split Strategy', fontsize=16, fontweight='bold')\n",
        "    plt.axis('equal')\n",
        "    plt.show()\n",
        "\n",
        "    print(f\"📊 Data Split Recommendation:\")\n",
        "    print(f\"   Training: {train_samples:,} samples ({(train_samples/total_samples)*100:.1f}%)\")\n",
        "    print(f\"   Validation: {val_samples:,} samples ({(val_samples/total_samples)*100:.1f}%)\")\n",
        "    print(f\"   Testing: {test_samples:,} samples ({(test_samples/total_samples)*100:.1f}%)\")"
      ],
      "metadata": {
        "id": "XfXaj_kh5rBr"
      },
      "execution_count": 52,
      "outputs": []
    },
    {
      "cell_type": "markdown",
      "source": [
        "### PIPELINE ENCAPSULATION AND SERIALIZATION"
      ],
      "metadata": {
        "id": "crFCqp7-DMoW"
      }
    },
    {
      "cell_type": "code",
      "source": [
        "import pickle\n",
        "from datetime import datetime\n",
        "import json\n",
        "from typing import Dict, Any, Callable, Optional"
      ],
      "metadata": {
        "id": "L65rdIAyDio5"
      },
      "execution_count": 61,
      "outputs": []
    },
    {
      "cell_type": "code",
      "source": [
        "class SatelliteDataPipeline:\n",
        "    \"\"\"Complete pipeline for satellite data processing from raw download to processed splits\"\"\"\n",
        "\n",
        "    def __init__(self, config: Dict[str, Any]):\n",
        "        \"\"\"Initialize pipeline with configuration\"\"\"\n",
        "        self.config = config\n",
        "        self.processor = SatelliteImageProcessor()\n",
        "        self.pipeline_id = f\"eurosat_pipeline_{datetime.now().strftime('%Y%m%d_%H%M%S')}\"\n",
        "        self.metadata = {\n",
        "            'pipeline_id': self.pipeline_id,\n",
        "            'created_at': datetime.now().isoformat(),\n",
        "            'version': '1.0',\n",
        "            'config': config\n",
        "        }\n",
        "\n",
        "    def execute_full_pipeline(self, download_data: bool = True,\n",
        "                            validate_data: bool = True,\n",
        "                            process_data: bool = True,\n",
        "                            create_splits: bool = True) -> Dict[str, Any]:\n",
        "        \"\"\"Execute the complete pipeline\"\"\"\n",
        "\n",
        "        results = {\n",
        "            'pipeline_id': self.pipeline_id,\n",
        "            'execution_start': datetime.now().isoformat(),\n",
        "            'steps_completed': [],\n",
        "            'statistics': {}\n",
        "        }\n",
        "\n",
        "        try:\n",
        "            # Step 1: Data Download\n",
        "            if download_data:\n",
        "                print(\"🌍 Executing data download...\")\n",
        "                if not os.path.exists(EUROSAT_PATH):\n",
        "                    download_eurosat_dataset()\n",
        "                results['steps_completed'].append('data_download')\n",
        "                print(\"✅ Data download completed\")\n",
        "\n",
        "            # Step 2: Data Validation\n",
        "            if validate_data:\n",
        "                print(\"🔍 Executing data validation...\")\n",
        "                validation_stats = validate_dataset(max_workers=4)\n",
        "                results['statistics']['validation'] = validation_stats\n",
        "                results['steps_completed'].append('data_validation')\n",
        "                print(\"✅ Data validation completed\")\n",
        "\n",
        "            # Step 3: Data Processing\n",
        "            if process_data:\n",
        "                print(\"🔄 Executing data processing...\")\n",
        "                processing_stats = process_dataset(max_workers=4)\n",
        "                results['statistics']['processing'] = processing_stats\n",
        "                results['steps_completed'].append('data_processing')\n",
        "                print(\"✅ Data processing completed\")\n",
        "\n",
        "            # Step 4: Create Data Splits\n",
        "            if create_splits:\n",
        "                print(\"📊 Creating data splits...\")\n",
        "                split_stats = create_data_splits()\n",
        "                results['statistics']['splits'] = split_stats\n",
        "                results['steps_completed'].append('data_splits')\n",
        "                print(\"✅ Data splits completed\")\n",
        "\n",
        "            # Step 5: Create Metadata\n",
        "            print(\"📝 Creating metadata...\")\n",
        "            metadata = create_metadata_file()\n",
        "            results['metadata'] = metadata\n",
        "            results['steps_completed'].append('metadata_creation')\n",
        "\n",
        "            results['execution_end'] = datetime.now().isoformat()\n",
        "            results['status'] = 'completed'\n",
        "            print(\"✅ Full pipeline execution completed\")\n",
        "\n",
        "        except Exception as e:\n",
        "            results['execution_end'] = datetime.now().isoformat()\n",
        "            results['status'] = 'failed'\n",
        "            results['error'] = str(e)\n",
        "            print(f\"❌ Pipeline execution failed: {str(e)}\")\n",
        "\n",
        "        return results"
      ],
      "metadata": {
        "id": "fj-w82ixDMNt"
      },
      "execution_count": 54,
      "outputs": []
    },
    {
      "cell_type": "code",
      "source": [
        "class DataPreprocessingPipeline:\n",
        "    \"\"\"Pipeline for preprocessing individual images\"\"\"\n",
        "\n",
        "    def __init__(self):\n",
        "        self.processor = SatelliteImageProcessor()\n",
        "        self.pipeline_id = f\"preprocessing_pipeline_{datetime.now().strftime('%Y%m%d_%H%M%S')}\"\n",
        "\n",
        "    def preprocess_image(self, image_path: str, output_types: list = None) -> Dict[str, np.ndarray]:\n",
        "        \"\"\"Preprocess a single image and return all variants\"\"\"\n",
        "\n",
        "        if output_types is None:\n",
        "            output_types = ['rgb', 'rgb_nir', 'ndvi', 'augmented']\n",
        "\n",
        "        results = {}\n",
        "\n",
        "        try:\n",
        "            # Load RGB variant\n",
        "            if 'rgb' in output_types:\n",
        "                rgb_img = self.processor.load_rgb_image(image_path)\n",
        "                if rgb_img is not None:\n",
        "                    results['rgb'] = rgb_img\n",
        "\n",
        "            # Load RGB+NIR variant\n",
        "            if 'rgb_nir' in output_types:\n",
        "                rgb_nir_img = self.processor.load_rgb_nir_image(image_path)\n",
        "                if rgb_nir_img is not None:\n",
        "                    results['rgb_nir'] = rgb_nir_img\n",
        "\n",
        "            # Compute NDVI\n",
        "            if 'ndvi' in output_types and 'rgb_nir' in results:\n",
        "                ndvi_img = self.processor.compute_ndvi(results['rgb_nir'])\n",
        "                results['ndvi'] = ndvi_img\n",
        "\n",
        "            # Apply augmentation\n",
        "            if 'augmented' in output_types and 'rgb' in results:\n",
        "                aug_img = self.processor.apply_augmentation(results['rgb'])\n",
        "                results['augmented'] = aug_img\n",
        "\n",
        "        except Exception as e:\n",
        "            print(f\"Error preprocessing {image_path}: {str(e)}\")\n",
        "\n",
        "        return results\n",
        "\n",
        "    def batch_preprocess(self, image_paths: list, max_workers: int = 4) -> Dict[str, list]:\n",
        "        \"\"\"Batch preprocess multiple images\"\"\"\n",
        "\n",
        "        results = {\n",
        "            'successful': [],\n",
        "            'failed': [],\n",
        "            'processed_images': {}\n",
        "        }\n",
        "\n",
        "        with ThreadPoolExecutor(max_workers=max_workers) as executor:\n",
        "            future_to_path = {\n",
        "                executor.submit(self.preprocess_image, path): path\n",
        "                for path in image_paths\n",
        "            }\n",
        "\n",
        "            for future in as_completed(future_to_path):\n",
        "                path = future_to_path[future]\n",
        "                try:\n",
        "                    result = future.result()\n",
        "                    if result:\n",
        "                        results['successful'].append(path)\n",
        "                        results['processed_images'][path] = result\n",
        "                    else:\n",
        "                        results['failed'].append(path)\n",
        "                except Exception as e:\n",
        "                    results['failed'].append(path)\n",
        "                    print(f\"Failed to process {path}: {str(e)}\")\n",
        "\n",
        "        return results"
      ],
      "metadata": {
        "id": "G9WAFNRHDls6"
      },
      "execution_count": 55,
      "outputs": []
    },
    {
      "cell_type": "code",
      "source": [
        "class ModelReadyDataPipeline:\n",
        "    \"\"\"Pipeline to create model-ready datasets\"\"\"\n",
        "\n",
        "    def __init__(self, splits_path: str = None):\n",
        "        self.splits_path = splits_path or os.path.join(PROCESSED_DATA_PATH, \"splits\")\n",
        "        self.label_encoder = LabelEncoder()\n",
        "        self.pipeline_id = f\"modelready_pipeline_{datetime.now().strftime('%Y%m%d_%H%M%S')}\"\n",
        "\n",
        "    def load_split_data(self, split_name: str, data_type: str = 'RGB',\n",
        "                       max_samples_per_category: Optional[int] = None) -> tuple:\n",
        "        \"\"\"Load data for a specific split and data type\"\"\"\n",
        "\n",
        "        split_path = os.path.join(self.splits_path, split_name, data_type)\n",
        "\n",
        "        X, y = [], []\n",
        "        category_counts = {}\n",
        "\n",
        "        for category in LAND_TYPES:\n",
        "            category_path = os.path.join(split_path, category)\n",
        "            if not os.path.exists(category_path):\n",
        "                continue\n",
        "\n",
        "            files = [f for f in os.listdir(category_path) if f.endswith('.npy')]\n",
        "\n",
        "            # Apply sampling limit if specified\n",
        "            if max_samples_per_category:\n",
        "                files = files[:max_samples_per_category]\n",
        "\n",
        "            category_counts[category] = len(files)\n",
        "\n",
        "            for file in files:\n",
        "                try:\n",
        "                    file_path = os.path.join(category_path, file)\n",
        "                    image_data = np.load(file_path)\n",
        "\n",
        "                    # Flatten if needed (depends on your model requirements)\n",
        "                    if len(image_data.shape) > 2:\n",
        "                        # Keep spatial structure for CNN models\n",
        "                        X.append(image_data)\n",
        "                    else:\n",
        "                        # NDVI data (2D)\n",
        "                        X.append(image_data)\n",
        "\n",
        "                    y.append(category)\n",
        "\n",
        "                except Exception as e:\n",
        "                    print(f\"Error loading {file_path}: {str(e)}\")\n",
        "                    continue\n",
        "\n",
        "        # Convert to numpy arrays\n",
        "        X = np.array(X)\n",
        "\n",
        "        # Encode labels\n",
        "        if not hasattr(self.label_encoder, 'classes_'):\n",
        "            self.label_encoder.fit(LAND_TYPES)\n",
        "        y_encoded = self.label_encoder.transform(y)\n",
        "\n",
        "        print(f\"✅ Loaded {split_name} set: {len(X)} samples, {len(category_counts)} categories\")\n",
        "        for cat, count in category_counts.items():\n",
        "            print(f\"   {cat}: {count} samples\")\n",
        "\n",
        "        return X, y_encoded, category_counts\n",
        "\n",
        "    def create_model_ready_datasets(self, data_type: str = 'RGB') -> Dict[str, tuple]:\n",
        "        \"\"\"Create train, validation, and test datasets ready for modeling\"\"\"\n",
        "\n",
        "        datasets = {}\n",
        "\n",
        "        for split in ['train', 'validation', 'test']:\n",
        "            print(f\"🔄 Loading {split} data...\")\n",
        "            X, y, counts = self.load_split_data(split, data_type)\n",
        "            datasets[split] = (X, y, counts)\n",
        "\n",
        "        return datasets"
      ],
      "metadata": {
        "id": "wO2Ko9C7Dqxt"
      },
      "execution_count": 56,
      "outputs": []
    },
    {
      "cell_type": "code",
      "source": [
        "# Create pipeline configurations\n",
        "FULL_PIPELINE_CONFIG = {\n",
        "    'image_size': IMAGE_SIZE,\n",
        "    'bands': BANDS,\n",
        "    'expected_bands': EXPECTED_BANDS,\n",
        "    'land_types': LAND_TYPES,\n",
        "    'data_types': DATA_TYPES,\n",
        "    'test_size': TEST_SIZE,\n",
        "    'val_size': VAL_SIZE,\n",
        "    'random_state': RANDOM_STATE,\n",
        "    'augmentation_enabled': True,\n",
        "    'max_workers': 4\n",
        "}\n",
        "\n",
        "MODEL_PIPELINE_CONFIG = {\n",
        "    'splits_path': os.path.join(PROCESSED_DATA_PATH, \"splits\"),\n",
        "    'data_types_available': DATA_TYPES,\n",
        "    'categories': LAND_TYPES,\n",
        "    'image_size': IMAGE_SIZE\n",
        "}"
      ],
      "metadata": {
        "id": "ktp1wkasDw5B"
      },
      "execution_count": 57,
      "outputs": []
    },
    {
      "cell_type": "code",
      "source": [
        "# Initialize pipelines\n",
        "print(\"🔧 Initializing pipelines...\")\n",
        "\n",
        "# Full data processing pipeline\n",
        "full_pipeline = SatelliteDataPipeline(FULL_PIPELINE_CONFIG)\n",
        "\n",
        "# Individual image preprocessing pipeline\n",
        "preprocessing_pipeline = DataPreprocessingPipeline()\n",
        "\n",
        "# Model-ready data pipeline\n",
        "model_data_pipeline = ModelReadyDataPipeline()\n",
        "\n",
        "print(\"✅ All pipelines initialized successfully!\")"
      ],
      "metadata": {
        "colab": {
          "base_uri": "https://localhost:8080/"
        },
        "id": "39_SCP00D0Ea",
        "outputId": "58c3dc5f-64d9-4eaa-c016-1872c430192a"
      },
      "execution_count": 58,
      "outputs": [
        {
          "output_type": "stream",
          "name": "stdout",
          "text": [
            "🔧 Initializing pipelines...\n",
            "✅ All pipelines initialized successfully!\n"
          ]
        }
      ]
    },
    {
      "cell_type": "code",
      "source": [
        "# Create pipeline bundle\n",
        "pipeline_bundle = {\n",
        "    'full_pipeline': full_pipeline,\n",
        "    'preprocessing_pipeline': preprocessing_pipeline,\n",
        "    'model_data_pipeline': model_data_pipeline,\n",
        "    'configurations': {\n",
        "        'full_pipeline_config': FULL_PIPELINE_CONFIG,\n",
        "        'model_pipeline_config': MODEL_PIPELINE_CONFIG\n",
        "    },\n",
        "    'metadata': {\n",
        "        'created_at': datetime.now().isoformat(),\n",
        "        'version': '1.0',\n",
        "        'description': 'Complete EuroSAT satellite image processing pipeline bundle',\n",
        "        'components': [\n",
        "            'full_pipeline: Complete data download to splits pipeline',\n",
        "            'preprocessing_pipeline: Individual image preprocessing',\n",
        "            'model_data_pipeline: Model-ready dataset creation'\n",
        "        ]\n",
        "    }\n",
        "}\n",
        "\n",
        "# Save pipelines\n",
        "pipeline_save_path = os.path.join(BASE_PATH, 'pipelines')\n",
        "os.makedirs(pipeline_save_path, exist_ok=True)"
      ],
      "metadata": {
        "id": "aQr5I-JoD3ek"
      },
      "execution_count": 59,
      "outputs": []
    },
    {
      "cell_type": "code",
      "source": [
        "# Save individual pipelines\n",
        "print(\"💾 Saving pipelines...\")\n",
        "\n",
        "with open(os.path.join(pipeline_save_path, 'full_processing_pipeline.pkl'), 'wb') as f:\n",
        "    pickle.dump(full_pipeline, f)\n",
        "print(\"✅ Full processing pipeline saved\")\n",
        "\n",
        "with open(os.path.join(pipeline_save_path, 'preprocessing_pipeline.pkl'), 'wb') as f:\n",
        "    pickle.dump(preprocessing_pipeline, f)\n",
        "print(\"✅ Preprocessing pipeline saved\")\n",
        "\n",
        "with open(os.path.join(pipeline_save_path, 'model_data_pipeline.pkl'), 'wb') as f:\n",
        "    pickle.dump(model_data_pipeline, f)\n",
        "print(\"✅ Model data pipeline saved\")"
      ],
      "metadata": {
        "colab": {
          "base_uri": "https://localhost:8080/"
        },
        "id": "KGSsiB3ID7rn",
        "outputId": "102c85bd-a435-4add-dcc4-b8192780805d"
      },
      "execution_count": 60,
      "outputs": [
        {
          "output_type": "stream",
          "name": "stdout",
          "text": [
            "💾 Saving pipelines...\n",
            "✅ Full processing pipeline saved\n",
            "✅ Preprocessing pipeline saved\n",
            "✅ Model data pipeline saved\n"
          ]
        }
      ]
    },
    {
      "cell_type": "code",
      "source": [
        "# Save complete pipeline bundle\n",
        "with open(os.path.join(pipeline_save_path, 'eurosat_pipeline_bundle.pkl'), 'wb') as f:\n",
        "    pickle.dump(pipeline_bundle, f)\n",
        "print(\"✅ Complete pipeline bundle saved\")"
      ],
      "metadata": {
        "colab": {
          "base_uri": "https://localhost:8080/"
        },
        "id": "u_oMYHEQECHN",
        "outputId": "e668e305-f3f2-402f-af72-263614487a8f"
      },
      "execution_count": 62,
      "outputs": [
        {
          "output_type": "stream",
          "name": "stdout",
          "text": [
            "✅ Complete pipeline bundle saved\n"
          ]
        }
      ]
    },
    {
      "cell_type": "code",
      "source": [
        "# Save processor class separately for standalone use\n",
        "with open(os.path.join(pipeline_save_path, 'satellite_image_processor.pkl'), 'wb') as f:\n",
        "    pickle.dump(processor, f)\n",
        "print(\"✅ Satellite image processor saved\")"
      ],
      "metadata": {
        "colab": {
          "base_uri": "https://localhost:8080/"
        },
        "id": "i_5s7LD1EFGt",
        "outputId": "354a00c3-97b3-47fb-daf2-d14466281e68"
      },
      "execution_count": 63,
      "outputs": [
        {
          "output_type": "stream",
          "name": "stdout",
          "text": [
            "✅ Satellite image processor saved\n"
          ]
        }
      ]
    },
    {
      "cell_type": "code",
      "source": [
        "# Save label encoder\n",
        "with open(os.path.join(pipeline_save_path, 'label_encoder.pkl'), 'wb') as f:\n",
        "    pickle.dump(model_data_pipeline.label_encoder, f)\n",
        "print(\"✅ Label encoder saved\")"
      ],
      "metadata": {
        "colab": {
          "base_uri": "https://localhost:8080/"
        },
        "id": "gzoLALHjEG-1",
        "outputId": "71e6db53-c347-4524-db1c-9dce284d31cd"
      },
      "execution_count": 64,
      "outputs": [
        {
          "output_type": "stream",
          "name": "stdout",
          "text": [
            "✅ Label encoder saved\n"
          ]
        }
      ]
    },
    {
      "cell_type": "code",
      "source": [
        "# Create pipeline documentation\n",
        "pipeline_docs = {\n",
        "    'pipeline_bundle_path': os.path.join(pipeline_save_path, 'eurosat_pipeline_bundle.pkl'),\n",
        "    'individual_pipelines': {\n",
        "        'full_processing': os.path.join(pipeline_save_path, 'full_processing_pipeline.pkl'),\n",
        "        'preprocessing': os.path.join(pipeline_save_path, 'preprocessing_pipeline.pkl'),\n",
        "        'model_data': os.path.join(pipeline_save_path, 'model_data_pipeline.pkl'),\n",
        "        'image_processor': os.path.join(pipeline_save_path, 'satellite_image_processor.pkl'),\n",
        "        'label_encoder': os.path.join(pipeline_save_path, 'label_encoder.pkl')\n",
        "    },\n",
        "    'usage_examples': {\n",
        "        'load_bundle': \"with open('eurosat_pipeline_bundle.pkl', 'rb') as f: bundle = pickle.load(f)\",\n",
        "        'execute_full_pipeline': \"bundle['full_pipeline'].execute_full_pipeline()\",\n",
        "        'preprocess_image': \"bundle['preprocessing_pipeline'].preprocess_image(image_path)\",\n",
        "        'load_model_data': \"bundle['model_data_pipeline'].create_model_ready_datasets('RGB')\"\n",
        "    },\n",
        "    'configurations_saved': pipeline_bundle['configurations'],\n",
        "    'metadata': pipeline_bundle['metadata']\n",
        "}"
      ],
      "metadata": {
        "id": "_vnfDtbEEI0D"
      },
      "execution_count": 65,
      "outputs": []
    },
    {
      "cell_type": "code",
      "source": [
        "# Save documentation\n",
        "with open(os.path.join(pipeline_save_path, 'pipeline_documentation.json'), 'w') as f:\n",
        "    json.dump(pipeline_docs, f, indent=4)\n",
        "print(\"✅ Pipeline documentation saved\")\n",
        "\n",
        "print(f\"\\n🎉 ALL PIPELINES SUCCESSFULLY SAVED!\")\n",
        "print(f\"📁 Pipeline save location: {pipeline_save_path}\")\n",
        "print(f\"📋 Available pipeline files:\")\n",
        "for name, path in pipeline_docs['individual_pipelines'].items():\n",
        "    print(f\"   {name}: {os.path.basename(path)}\")\n",
        "print(f\"📦 Complete bundle: eurosat_pipeline_bundle.pkl\")\n",
        "print(f\"📚 Documentation: pipeline_documentation.json\")"
      ],
      "metadata": {
        "colab": {
          "base_uri": "https://localhost:8080/"
        },
        "id": "tVyZjGRDEOVA",
        "outputId": "80c26976-2641-42ea-8866-bfdb4eb5d5b4"
      },
      "execution_count": 66,
      "outputs": [
        {
          "output_type": "stream",
          "name": "stdout",
          "text": [
            "✅ Pipeline documentation saved\n",
            "\n",
            "🎉 ALL PIPELINES SUCCESSFULLY SAVED!\n",
            "📁 Pipeline save location: /content/drive/My Drive/DEPI/Data/pipelines\n",
            "📋 Available pipeline files:\n",
            "   full_processing: full_processing_pipeline.pkl\n",
            "   preprocessing: preprocessing_pipeline.pkl\n",
            "   model_data: model_data_pipeline.pkl\n",
            "   image_processor: satellite_image_processor.pkl\n",
            "   label_encoder: label_encoder.pkl\n",
            "📦 Complete bundle: eurosat_pipeline_bundle.pkl\n",
            "📚 Documentation: pipeline_documentation.json\n"
          ]
        }
      ]
    }
  ]
}